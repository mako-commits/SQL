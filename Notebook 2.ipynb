{
    "metadata": {
        "kernelspec": {
            "name": "SQL",
            "display_name": "SQL",
            "language": "sql"
        },
        "language_info": {
            "name": "sql",
            "version": ""
        }
    },
    "nbformat_minor": 2,
    "nbformat": 4,
    "cells": [
        {
            "cell_type": "markdown",
            "source": [
                "# HAVING CLAUSE"
            ],
            "metadata": {
                "language": "sql",
                "azdata_cell_guid": "6480c2a2-8d32-4392-b4f3-91cbe2c8b97f"
            },
            "attachments": {}
        },
        {
            "cell_type": "code",
            "source": [
                "SELECT Jobtitle, COUNT(JobTitle)\r\n",
                "FROM [Projects].[dbo].[EmployeeDemographics]\r\n",
                "JOIN [Projects].[dbo].[EmployeeSalary]\r\n",
                "    ON EmployeeDemographics.EmployeeID = EmployeeSalary.EmployeeID\r\n",
                "GROUP BY JobTitle\r\n",
                "\r\n",
                "\r\n",
                "SELECT Jobtitle, COUNT(JobTitle)\r\n",
                "FROM [Projects].[dbo].[EmployeeDemographics]\r\n",
                "JOIN [Projects].[dbo].[EmployeeSalary]\r\n",
                "    ON EmployeeDemographics.EmployeeID = EmployeeSalary.EmployeeID\r\n",
                "GROUP BY JobTitle\r\n",
                "HAVING COUNT(JobTitle) > 1\r\n",
                "\r\n",
                "\r\n",
                "SELECT Jobtitle, AVG(Salary)\r\n",
                "FROM [Projects].[dbo].[EmployeeDemographics]\r\n",
                "JOIN [Projects].[dbo].[EmployeeSalary]\r\n",
                "    ON EmployeeDemographics.EmployeeID = EmployeeSalary.EmployeeID\r\n",
                "GROUP BY JobTitle\r\n",
                "HAVING AVG(Salary) > 45000\r\n",
                "ORDER BY AVG(Salary)"
            ],
            "metadata": {
                "azdata_cell_guid": "613f8d00-b12a-47b9-84f4-e564e924d783",
                "language": "sql"
            },
            "outputs": [
                {
                    "output_type": "display_data",
                    "data": {
                        "text/html": "(6 rows affected)"
                    },
                    "metadata": {}
                },
                {
                    "output_type": "display_data",
                    "data": {
                        "text/html": "(2 rows affected)"
                    },
                    "metadata": {}
                },
                {
                    "output_type": "display_data",
                    "data": {
                        "text/html": "(3 rows affected)"
                    },
                    "metadata": {}
                },
                {
                    "output_type": "display_data",
                    "data": {
                        "text/html": "Total execution time: 00:00:00.035"
                    },
                    "metadata": {}
                },
                {
                    "output_type": "execute_result",
                    "metadata": {},
                    "execution_count": 6,
                    "data": {
                        "application/vnd.dataresource+json": {
                            "schema": {
                                "fields": [
                                    {
                                        "name": "Jobtitle"
                                    },
                                    {
                                        "name": "(No column name)"
                                    }
                                ]
                            },
                            "data": [
                                {
                                    "Jobtitle": "Accountant",
                                    "(No column name)": "2"
                                },
                                {
                                    "Jobtitle": "HR",
                                    "(No column name)": "1"
                                },
                                {
                                    "Jobtitle": "Receptionist",
                                    "(No column name)": "1"
                                },
                                {
                                    "Jobtitle": "Regional Manager",
                                    "(No column name)": "1"
                                },
                                {
                                    "Jobtitle": "Salesman",
                                    "(No column name)": "3"
                                },
                                {
                                    "Jobtitle": "Supplier Relations",
                                    "(No column name)": "1"
                                }
                            ]
                        },
                        "text/html": [
                            "<table>",
                            "<tr><th>Jobtitle</th><th>(No column name)</th></tr>",
                            "<tr><td>Accountant</td><td>2</td></tr>",
                            "<tr><td>HR</td><td>1</td></tr>",
                            "<tr><td>Receptionist</td><td>1</td></tr>",
                            "<tr><td>Regional Manager</td><td>1</td></tr>",
                            "<tr><td>Salesman</td><td>3</td></tr>",
                            "<tr><td>Supplier Relations</td><td>1</td></tr>",
                            "</table>"
                        ]
                    }
                },
                {
                    "output_type": "execute_result",
                    "metadata": {},
                    "execution_count": 6,
                    "data": {
                        "application/vnd.dataresource+json": {
                            "schema": {
                                "fields": [
                                    {
                                        "name": "Jobtitle"
                                    },
                                    {
                                        "name": "(No column name)"
                                    }
                                ]
                            },
                            "data": [
                                {
                                    "Jobtitle": "Accountant",
                                    "(No column name)": "2"
                                },
                                {
                                    "Jobtitle": "Salesman",
                                    "(No column name)": "3"
                                }
                            ]
                        },
                        "text/html": [
                            "<table>",
                            "<tr><th>Jobtitle</th><th>(No column name)</th></tr>",
                            "<tr><td>Accountant</td><td>2</td></tr>",
                            "<tr><td>Salesman</td><td>3</td></tr>",
                            "</table>"
                        ]
                    }
                },
                {
                    "output_type": "execute_result",
                    "metadata": {},
                    "execution_count": 6,
                    "data": {
                        "application/vnd.dataresource+json": {
                            "schema": {
                                "fields": [
                                    {
                                        "name": "Jobtitle"
                                    },
                                    {
                                        "name": "(No column name)"
                                    }
                                ]
                            },
                            "data": [
                                {
                                    "Jobtitle": "HR",
                                    "(No column name)": "50000"
                                },
                                {
                                    "Jobtitle": "Salesman",
                                    "(No column name)": "52000"
                                },
                                {
                                    "Jobtitle": "Regional Manager",
                                    "(No column name)": "65000"
                                }
                            ]
                        },
                        "text/html": [
                            "<table>",
                            "<tr><th>Jobtitle</th><th>(No column name)</th></tr>",
                            "<tr><td>HR</td><td>50000</td></tr>",
                            "<tr><td>Salesman</td><td>52000</td></tr>",
                            "<tr><td>Regional Manager</td><td>65000</td></tr>",
                            "</table>"
                        ]
                    }
                }
            ],
            "execution_count": 6
        },
        {
            "cell_type": "markdown",
            "source": [
                "# UPDATING & DELETING DATA"
            ],
            "metadata": {
                "language": "sql",
                "azdata_cell_guid": "bacbc139-a6cc-4b78-ba8d-41145d02b64c"
            },
            "attachments": {}
        },
        {
            "cell_type": "code",
            "source": [
                "SELECT * \r\n",
                "FROM [Projects].[dbo].[EmployeeDemographics]"
            ],
            "metadata": {
                "language": "sql",
                "azdata_cell_guid": "b8f85c12-52e9-41e0-99e5-325cde6c4ade"
            },
            "outputs": [
                {
                    "output_type": "display_data",
                    "data": {
                        "text/html": "(12 rows affected)"
                    },
                    "metadata": {}
                },
                {
                    "output_type": "display_data",
                    "data": {
                        "text/html": "Total execution time: 00:00:00.008"
                    },
                    "metadata": {}
                },
                {
                    "output_type": "execute_result",
                    "metadata": {},
                    "execution_count": 7,
                    "data": {
                        "application/vnd.dataresource+json": {
                            "schema": {
                                "fields": [
                                    {
                                        "name": "EmployeeID"
                                    },
                                    {
                                        "name": "FirstName"
                                    },
                                    {
                                        "name": "LastName"
                                    },
                                    {
                                        "name": "Age"
                                    },
                                    {
                                        "name": "Gender"
                                    }
                                ]
                            },
                            "data": [
                                {
                                    "EmployeeID": "1001",
                                    "FirstName": "Jim",
                                    "LastName": "Halpert",
                                    "Age": "30",
                                    "Gender": "Male"
                                },
                                {
                                    "EmployeeID": "1002",
                                    "FirstName": "Pam",
                                    "LastName": "Beasley",
                                    "Age": "30",
                                    "Gender": "Female"
                                },
                                {
                                    "EmployeeID": "1003",
                                    "FirstName": "Dwight",
                                    "LastName": "Schrute",
                                    "Age": "29",
                                    "Gender": "Male"
                                },
                                {
                                    "EmployeeID": "1004",
                                    "FirstName": "Angela",
                                    "LastName": "Martin",
                                    "Age": "31",
                                    "Gender": "Female"
                                },
                                {
                                    "EmployeeID": "1005",
                                    "FirstName": "Toby",
                                    "LastName": "Flenderson",
                                    "Age": "32",
                                    "Gender": "Male"
                                },
                                {
                                    "EmployeeID": "1006",
                                    "FirstName": "Michael",
                                    "LastName": "Scott",
                                    "Age": "35",
                                    "Gender": "Male"
                                },
                                {
                                    "EmployeeID": "1007",
                                    "FirstName": "Meredith",
                                    "LastName": "Palmer",
                                    "Age": "32",
                                    "Gender": "Female"
                                },
                                {
                                    "EmployeeID": "1008",
                                    "FirstName": "Stanley",
                                    "LastName": "Hudson",
                                    "Age": "38",
                                    "Gender": "Male"
                                },
                                {
                                    "EmployeeID": "1009",
                                    "FirstName": "Kevin",
                                    "LastName": "Malone",
                                    "Age": "31",
                                    "Gender": "Male"
                                },
                                {
                                    "EmployeeID": "1011",
                                    "FirstName": "Ryan",
                                    "LastName": "Howard",
                                    "Age": "26",
                                    "Gender": "Male"
                                },
                                {
                                    "EmployeeID": "NULL",
                                    "FirstName": "Holly",
                                    "LastName": "Flax",
                                    "Age": "NULL",
                                    "Gender": "Female"
                                },
                                {
                                    "EmployeeID": "1013",
                                    "FirstName": "Darryl",
                                    "LastName": "Philbin",
                                    "Age": "NULL",
                                    "Gender": "Male"
                                }
                            ]
                        },
                        "text/html": [
                            "<table>",
                            "<tr><th>EmployeeID</th><th>FirstName</th><th>LastName</th><th>Age</th><th>Gender</th></tr>",
                            "<tr><td>1001</td><td>Jim</td><td>Halpert</td><td>30</td><td>Male</td></tr>",
                            "<tr><td>1002</td><td>Pam</td><td>Beasley</td><td>30</td><td>Female</td></tr>",
                            "<tr><td>1003</td><td>Dwight</td><td>Schrute</td><td>29</td><td>Male</td></tr>",
                            "<tr><td>1004</td><td>Angela</td><td>Martin</td><td>31</td><td>Female</td></tr>",
                            "<tr><td>1005</td><td>Toby</td><td>Flenderson</td><td>32</td><td>Male</td></tr>",
                            "<tr><td>1006</td><td>Michael</td><td>Scott</td><td>35</td><td>Male</td></tr>",
                            "<tr><td>1007</td><td>Meredith</td><td>Palmer</td><td>32</td><td>Female</td></tr>",
                            "<tr><td>1008</td><td>Stanley</td><td>Hudson</td><td>38</td><td>Male</td></tr>",
                            "<tr><td>1009</td><td>Kevin</td><td>Malone</td><td>31</td><td>Male</td></tr>",
                            "<tr><td>1011</td><td>Ryan</td><td>Howard</td><td>26</td><td>Male</td></tr>",
                            "<tr><td>NULL</td><td>Holly</td><td>Flax</td><td>NULL</td><td>Female</td></tr>",
                            "<tr><td>1013</td><td>Darryl</td><td>Philbin</td><td>NULL</td><td>Male</td></tr>",
                            "</table>"
                        ]
                    }
                }
            ],
            "execution_count": 7
        },
        {
            "cell_type": "code",
            "source": [
                "UPDATE [Projects].[dbo].[EmployeeDemographics]\r\n",
                "SET EmployeeID = 1012\r\n",
                "WHERE FirstName = 'Holly' AND LastName = 'Flax'\r\n",
                "\r\n",
                "SELECT * \r\n",
                "FROM [Projects].[dbo].[EmployeeDemographics]"
            ],
            "metadata": {
                "language": "sql",
                "azdata_cell_guid": "0cb84256-8fca-420a-9f7e-19d5e369af3a"
            },
            "outputs": [
                {
                    "output_type": "display_data",
                    "data": {
                        "text/html": "(1 row affected)"
                    },
                    "metadata": {}
                },
                {
                    "output_type": "display_data",
                    "data": {
                        "text/html": "(12 rows affected)"
                    },
                    "metadata": {}
                },
                {
                    "output_type": "display_data",
                    "data": {
                        "text/html": "Total execution time: 00:00:00.013"
                    },
                    "metadata": {}
                },
                {
                    "output_type": "execute_result",
                    "metadata": {},
                    "execution_count": 9,
                    "data": {
                        "application/vnd.dataresource+json": {
                            "schema": {
                                "fields": [
                                    {
                                        "name": "EmployeeID"
                                    },
                                    {
                                        "name": "FirstName"
                                    },
                                    {
                                        "name": "LastName"
                                    },
                                    {
                                        "name": "Age"
                                    },
                                    {
                                        "name": "Gender"
                                    }
                                ]
                            },
                            "data": [
                                {
                                    "EmployeeID": "1001",
                                    "FirstName": "Jim",
                                    "LastName": "Halpert",
                                    "Age": "30",
                                    "Gender": "Male"
                                },
                                {
                                    "EmployeeID": "1002",
                                    "FirstName": "Pam",
                                    "LastName": "Beasley",
                                    "Age": "30",
                                    "Gender": "Female"
                                },
                                {
                                    "EmployeeID": "1003",
                                    "FirstName": "Dwight",
                                    "LastName": "Schrute",
                                    "Age": "29",
                                    "Gender": "Male"
                                },
                                {
                                    "EmployeeID": "1004",
                                    "FirstName": "Angela",
                                    "LastName": "Martin",
                                    "Age": "31",
                                    "Gender": "Female"
                                },
                                {
                                    "EmployeeID": "1005",
                                    "FirstName": "Toby",
                                    "LastName": "Flenderson",
                                    "Age": "32",
                                    "Gender": "Male"
                                },
                                {
                                    "EmployeeID": "1006",
                                    "FirstName": "Michael",
                                    "LastName": "Scott",
                                    "Age": "35",
                                    "Gender": "Male"
                                },
                                {
                                    "EmployeeID": "1007",
                                    "FirstName": "Meredith",
                                    "LastName": "Palmer",
                                    "Age": "32",
                                    "Gender": "Female"
                                },
                                {
                                    "EmployeeID": "1008",
                                    "FirstName": "Stanley",
                                    "LastName": "Hudson",
                                    "Age": "38",
                                    "Gender": "Male"
                                },
                                {
                                    "EmployeeID": "1009",
                                    "FirstName": "Kevin",
                                    "LastName": "Malone",
                                    "Age": "31",
                                    "Gender": "Male"
                                },
                                {
                                    "EmployeeID": "1011",
                                    "FirstName": "Ryan",
                                    "LastName": "Howard",
                                    "Age": "26",
                                    "Gender": "Male"
                                },
                                {
                                    "EmployeeID": "1012",
                                    "FirstName": "Holly",
                                    "LastName": "Flax",
                                    "Age": "NULL",
                                    "Gender": "Female"
                                },
                                {
                                    "EmployeeID": "1013",
                                    "FirstName": "Darryl",
                                    "LastName": "Philbin",
                                    "Age": "NULL",
                                    "Gender": "Male"
                                }
                            ]
                        },
                        "text/html": [
                            "<table>",
                            "<tr><th>EmployeeID</th><th>FirstName</th><th>LastName</th><th>Age</th><th>Gender</th></tr>",
                            "<tr><td>1001</td><td>Jim</td><td>Halpert</td><td>30</td><td>Male</td></tr>",
                            "<tr><td>1002</td><td>Pam</td><td>Beasley</td><td>30</td><td>Female</td></tr>",
                            "<tr><td>1003</td><td>Dwight</td><td>Schrute</td><td>29</td><td>Male</td></tr>",
                            "<tr><td>1004</td><td>Angela</td><td>Martin</td><td>31</td><td>Female</td></tr>",
                            "<tr><td>1005</td><td>Toby</td><td>Flenderson</td><td>32</td><td>Male</td></tr>",
                            "<tr><td>1006</td><td>Michael</td><td>Scott</td><td>35</td><td>Male</td></tr>",
                            "<tr><td>1007</td><td>Meredith</td><td>Palmer</td><td>32</td><td>Female</td></tr>",
                            "<tr><td>1008</td><td>Stanley</td><td>Hudson</td><td>38</td><td>Male</td></tr>",
                            "<tr><td>1009</td><td>Kevin</td><td>Malone</td><td>31</td><td>Male</td></tr>",
                            "<tr><td>1011</td><td>Ryan</td><td>Howard</td><td>26</td><td>Male</td></tr>",
                            "<tr><td>1012</td><td>Holly</td><td>Flax</td><td>NULL</td><td>Female</td></tr>",
                            "<tr><td>1013</td><td>Darryl</td><td>Philbin</td><td>NULL</td><td>Male</td></tr>",
                            "</table>"
                        ]
                    }
                }
            ],
            "execution_count": 9
        },
        {
            "cell_type": "code",
            "source": [
                "UPDATE [Projects].[dbo].[EmployeeDemographics]\r\n",
                "SET Age = 31, Gender = 'Female'\r\n",
                "WHERE FirstName = 'Holly' AND LastName = 'Flax'\r\n",
                "\r\n",
                "SELECT * \r\n",
                "FROM [Projects].[dbo].[EmployeeDemographics]"
            ],
            "metadata": {
                "language": "sql",
                "azdata_cell_guid": "f54f3d7a-a968-48c4-93de-71666f591cfb"
            },
            "outputs": [
                {
                    "output_type": "display_data",
                    "data": {
                        "text/html": "(1 row affected)"
                    },
                    "metadata": {}
                },
                {
                    "output_type": "display_data",
                    "data": {
                        "text/html": "(12 rows affected)"
                    },
                    "metadata": {}
                },
                {
                    "output_type": "display_data",
                    "data": {
                        "text/html": "Total execution time: 00:00:00.018"
                    },
                    "metadata": {}
                },
                {
                    "output_type": "execute_result",
                    "metadata": {},
                    "execution_count": 10,
                    "data": {
                        "application/vnd.dataresource+json": {
                            "schema": {
                                "fields": [
                                    {
                                        "name": "EmployeeID"
                                    },
                                    {
                                        "name": "FirstName"
                                    },
                                    {
                                        "name": "LastName"
                                    },
                                    {
                                        "name": "Age"
                                    },
                                    {
                                        "name": "Gender"
                                    }
                                ]
                            },
                            "data": [
                                {
                                    "EmployeeID": "1001",
                                    "FirstName": "Jim",
                                    "LastName": "Halpert",
                                    "Age": "30",
                                    "Gender": "Male"
                                },
                                {
                                    "EmployeeID": "1002",
                                    "FirstName": "Pam",
                                    "LastName": "Beasley",
                                    "Age": "30",
                                    "Gender": "Female"
                                },
                                {
                                    "EmployeeID": "1003",
                                    "FirstName": "Dwight",
                                    "LastName": "Schrute",
                                    "Age": "29",
                                    "Gender": "Male"
                                },
                                {
                                    "EmployeeID": "1004",
                                    "FirstName": "Angela",
                                    "LastName": "Martin",
                                    "Age": "31",
                                    "Gender": "Female"
                                },
                                {
                                    "EmployeeID": "1005",
                                    "FirstName": "Toby",
                                    "LastName": "Flenderson",
                                    "Age": "32",
                                    "Gender": "Male"
                                },
                                {
                                    "EmployeeID": "1006",
                                    "FirstName": "Michael",
                                    "LastName": "Scott",
                                    "Age": "35",
                                    "Gender": "Male"
                                },
                                {
                                    "EmployeeID": "1007",
                                    "FirstName": "Meredith",
                                    "LastName": "Palmer",
                                    "Age": "32",
                                    "Gender": "Female"
                                },
                                {
                                    "EmployeeID": "1008",
                                    "FirstName": "Stanley",
                                    "LastName": "Hudson",
                                    "Age": "38",
                                    "Gender": "Male"
                                },
                                {
                                    "EmployeeID": "1009",
                                    "FirstName": "Kevin",
                                    "LastName": "Malone",
                                    "Age": "31",
                                    "Gender": "Male"
                                },
                                {
                                    "EmployeeID": "1011",
                                    "FirstName": "Ryan",
                                    "LastName": "Howard",
                                    "Age": "26",
                                    "Gender": "Male"
                                },
                                {
                                    "EmployeeID": "1012",
                                    "FirstName": "Holly",
                                    "LastName": "Flax",
                                    "Age": "31",
                                    "Gender": "Female"
                                },
                                {
                                    "EmployeeID": "1013",
                                    "FirstName": "Darryl",
                                    "LastName": "Philbin",
                                    "Age": "NULL",
                                    "Gender": "Male"
                                }
                            ]
                        },
                        "text/html": [
                            "<table>",
                            "<tr><th>EmployeeID</th><th>FirstName</th><th>LastName</th><th>Age</th><th>Gender</th></tr>",
                            "<tr><td>1001</td><td>Jim</td><td>Halpert</td><td>30</td><td>Male</td></tr>",
                            "<tr><td>1002</td><td>Pam</td><td>Beasley</td><td>30</td><td>Female</td></tr>",
                            "<tr><td>1003</td><td>Dwight</td><td>Schrute</td><td>29</td><td>Male</td></tr>",
                            "<tr><td>1004</td><td>Angela</td><td>Martin</td><td>31</td><td>Female</td></tr>",
                            "<tr><td>1005</td><td>Toby</td><td>Flenderson</td><td>32</td><td>Male</td></tr>",
                            "<tr><td>1006</td><td>Michael</td><td>Scott</td><td>35</td><td>Male</td></tr>",
                            "<tr><td>1007</td><td>Meredith</td><td>Palmer</td><td>32</td><td>Female</td></tr>",
                            "<tr><td>1008</td><td>Stanley</td><td>Hudson</td><td>38</td><td>Male</td></tr>",
                            "<tr><td>1009</td><td>Kevin</td><td>Malone</td><td>31</td><td>Male</td></tr>",
                            "<tr><td>1011</td><td>Ryan</td><td>Howard</td><td>26</td><td>Male</td></tr>",
                            "<tr><td>1012</td><td>Holly</td><td>Flax</td><td>31</td><td>Female</td></tr>",
                            "<tr><td>1013</td><td>Darryl</td><td>Philbin</td><td>NULL</td><td>Male</td></tr>",
                            "</table>"
                        ]
                    }
                }
            ],
            "execution_count": 10
        },
        {
            "cell_type": "markdown",
            "source": [
                "## DELETE QUERY"
            ],
            "metadata": {
                "language": "sql",
                "azdata_cell_guid": "bdd7ad3a-eb86-40d8-b64d-e993b8c2e80d"
            },
            "attachments": {}
        },
        {
            "cell_type": "code",
            "source": [
                "DELETE FROM [Projects].[dbo].[EmployeeDemographics]\r\n",
                "WHERE EmployeeID = 1002\r\n",
                "\r\n",
                "SELECT * \r\n",
                "FROM [Projects].[dbo].[EmployeeDemographics]\r\n",
                "\r\n",
                "-- NOTE: DELETE query cannot be undone."
            ],
            "metadata": {
                "language": "sql",
                "azdata_cell_guid": "c53ebb54-42d3-42c0-85f0-a9eca00e6b9b"
            },
            "outputs": [
                {
                    "output_type": "display_data",
                    "data": {
                        "text/html": "(1 row affected)"
                    },
                    "metadata": {}
                },
                {
                    "output_type": "display_data",
                    "data": {
                        "text/html": "(11 rows affected)"
                    },
                    "metadata": {}
                },
                {
                    "output_type": "display_data",
                    "data": {
                        "text/html": "Total execution time: 00:00:00.015"
                    },
                    "metadata": {}
                },
                {
                    "output_type": "execute_result",
                    "metadata": {},
                    "execution_count": 11,
                    "data": {
                        "application/vnd.dataresource+json": {
                            "schema": {
                                "fields": [
                                    {
                                        "name": "EmployeeID"
                                    },
                                    {
                                        "name": "FirstName"
                                    },
                                    {
                                        "name": "LastName"
                                    },
                                    {
                                        "name": "Age"
                                    },
                                    {
                                        "name": "Gender"
                                    }
                                ]
                            },
                            "data": [
                                {
                                    "EmployeeID": "1001",
                                    "FirstName": "Jim",
                                    "LastName": "Halpert",
                                    "Age": "30",
                                    "Gender": "Male"
                                },
                                {
                                    "EmployeeID": "1003",
                                    "FirstName": "Dwight",
                                    "LastName": "Schrute",
                                    "Age": "29",
                                    "Gender": "Male"
                                },
                                {
                                    "EmployeeID": "1004",
                                    "FirstName": "Angela",
                                    "LastName": "Martin",
                                    "Age": "31",
                                    "Gender": "Female"
                                },
                                {
                                    "EmployeeID": "1005",
                                    "FirstName": "Toby",
                                    "LastName": "Flenderson",
                                    "Age": "32",
                                    "Gender": "Male"
                                },
                                {
                                    "EmployeeID": "1006",
                                    "FirstName": "Michael",
                                    "LastName": "Scott",
                                    "Age": "35",
                                    "Gender": "Male"
                                },
                                {
                                    "EmployeeID": "1007",
                                    "FirstName": "Meredith",
                                    "LastName": "Palmer",
                                    "Age": "32",
                                    "Gender": "Female"
                                },
                                {
                                    "EmployeeID": "1008",
                                    "FirstName": "Stanley",
                                    "LastName": "Hudson",
                                    "Age": "38",
                                    "Gender": "Male"
                                },
                                {
                                    "EmployeeID": "1009",
                                    "FirstName": "Kevin",
                                    "LastName": "Malone",
                                    "Age": "31",
                                    "Gender": "Male"
                                },
                                {
                                    "EmployeeID": "1011",
                                    "FirstName": "Ryan",
                                    "LastName": "Howard",
                                    "Age": "26",
                                    "Gender": "Male"
                                },
                                {
                                    "EmployeeID": "1012",
                                    "FirstName": "Holly",
                                    "LastName": "Flax",
                                    "Age": "31",
                                    "Gender": "Female"
                                },
                                {
                                    "EmployeeID": "1013",
                                    "FirstName": "Darryl",
                                    "LastName": "Philbin",
                                    "Age": "NULL",
                                    "Gender": "Male"
                                }
                            ]
                        },
                        "text/html": [
                            "<table>",
                            "<tr><th>EmployeeID</th><th>FirstName</th><th>LastName</th><th>Age</th><th>Gender</th></tr>",
                            "<tr><td>1001</td><td>Jim</td><td>Halpert</td><td>30</td><td>Male</td></tr>",
                            "<tr><td>1003</td><td>Dwight</td><td>Schrute</td><td>29</td><td>Male</td></tr>",
                            "<tr><td>1004</td><td>Angela</td><td>Martin</td><td>31</td><td>Female</td></tr>",
                            "<tr><td>1005</td><td>Toby</td><td>Flenderson</td><td>32</td><td>Male</td></tr>",
                            "<tr><td>1006</td><td>Michael</td><td>Scott</td><td>35</td><td>Male</td></tr>",
                            "<tr><td>1007</td><td>Meredith</td><td>Palmer</td><td>32</td><td>Female</td></tr>",
                            "<tr><td>1008</td><td>Stanley</td><td>Hudson</td><td>38</td><td>Male</td></tr>",
                            "<tr><td>1009</td><td>Kevin</td><td>Malone</td><td>31</td><td>Male</td></tr>",
                            "<tr><td>1011</td><td>Ryan</td><td>Howard</td><td>26</td><td>Male</td></tr>",
                            "<tr><td>1012</td><td>Holly</td><td>Flax</td><td>31</td><td>Female</td></tr>",
                            "<tr><td>1013</td><td>Darryl</td><td>Philbin</td><td>NULL</td><td>Male</td></tr>",
                            "</table>"
                        ]
                    }
                }
            ],
            "execution_count": 11
        },
        {
            "cell_type": "markdown",
            "source": [
                "# ALIASING"
            ],
            "metadata": {
                "language": "sql",
                "azdata_cell_guid": "d0eeaf17-9e4e-46ca-ab50-e6df8732f051"
            },
            "attachments": {}
        },
        {
            "cell_type": "code",
            "source": [
                "SELECT FirstName AS Fname\r\n",
                "FROM [Projects].[dbo].[EmployeeDemographics]\r\n",
                "\r\n",
                "SELECT FirstName + ' ' + LastName AS [Full Name]\r\n",
                "FROM [Projects].[dbo].[EmployeeDemographics]"
            ],
            "metadata": {
                "language": "sql",
                "azdata_cell_guid": "ac8aee0e-70ce-41db-a423-49fa2ba78e2f"
            },
            "outputs": [
                {
                    "output_type": "display_data",
                    "data": {
                        "text/html": "(11 rows affected)"
                    },
                    "metadata": {}
                },
                {
                    "output_type": "display_data",
                    "data": {
                        "text/html": "(11 rows affected)"
                    },
                    "metadata": {}
                },
                {
                    "output_type": "display_data",
                    "data": {
                        "text/html": "Total execution time: 00:00:00.007"
                    },
                    "metadata": {}
                },
                {
                    "output_type": "execute_result",
                    "metadata": {},
                    "execution_count": 14,
                    "data": {
                        "application/vnd.dataresource+json": {
                            "schema": {
                                "fields": [
                                    {
                                        "name": "Fname"
                                    }
                                ]
                            },
                            "data": [
                                {
                                    "Fname": "Jim"
                                },
                                {
                                    "Fname": "Dwight"
                                },
                                {
                                    "Fname": "Angela"
                                },
                                {
                                    "Fname": "Toby"
                                },
                                {
                                    "Fname": "Michael"
                                },
                                {
                                    "Fname": "Meredith"
                                },
                                {
                                    "Fname": "Stanley"
                                },
                                {
                                    "Fname": "Kevin"
                                },
                                {
                                    "Fname": "Ryan"
                                },
                                {
                                    "Fname": "Holly"
                                },
                                {
                                    "Fname": "Darryl"
                                }
                            ]
                        },
                        "text/html": [
                            "<table>",
                            "<tr><th>Fname</th></tr>",
                            "<tr><td>Jim</td></tr>",
                            "<tr><td>Dwight</td></tr>",
                            "<tr><td>Angela</td></tr>",
                            "<tr><td>Toby</td></tr>",
                            "<tr><td>Michael</td></tr>",
                            "<tr><td>Meredith</td></tr>",
                            "<tr><td>Stanley</td></tr>",
                            "<tr><td>Kevin</td></tr>",
                            "<tr><td>Ryan</td></tr>",
                            "<tr><td>Holly</td></tr>",
                            "<tr><td>Darryl</td></tr>",
                            "</table>"
                        ]
                    }
                },
                {
                    "output_type": "execute_result",
                    "metadata": {},
                    "execution_count": 14,
                    "data": {
                        "application/vnd.dataresource+json": {
                            "schema": {
                                "fields": [
                                    {
                                        "name": "Full Name"
                                    }
                                ]
                            },
                            "data": [
                                {
                                    "Full Name": "Jim Halpert"
                                },
                                {
                                    "Full Name": "Dwight Schrute"
                                },
                                {
                                    "Full Name": "Angela Martin"
                                },
                                {
                                    "Full Name": "Toby Flenderson"
                                },
                                {
                                    "Full Name": "Michael Scott"
                                },
                                {
                                    "Full Name": "Meredith Palmer"
                                },
                                {
                                    "Full Name": "Stanley Hudson"
                                },
                                {
                                    "Full Name": "Kevin Malone"
                                },
                                {
                                    "Full Name": "Ryan Howard"
                                },
                                {
                                    "Full Name": "Holly Flax"
                                },
                                {
                                    "Full Name": "Darryl Philbin"
                                }
                            ]
                        },
                        "text/html": [
                            "<table>",
                            "<tr><th>Full Name</th></tr>",
                            "<tr><td>Jim Halpert</td></tr>",
                            "<tr><td>Dwight Schrute</td></tr>",
                            "<tr><td>Angela Martin</td></tr>",
                            "<tr><td>Toby Flenderson</td></tr>",
                            "<tr><td>Michael Scott</td></tr>",
                            "<tr><td>Meredith Palmer</td></tr>",
                            "<tr><td>Stanley Hudson</td></tr>",
                            "<tr><td>Kevin Malone</td></tr>",
                            "<tr><td>Ryan Howard</td></tr>",
                            "<tr><td>Holly Flax</td></tr>",
                            "<tr><td>Darryl Philbin</td></tr>",
                            "</table>"
                        ]
                    }
                }
            ],
            "execution_count": 14
        },
        {
            "cell_type": "code",
            "source": [
                "SELECT Demo.EmployeeID, Sal.Salary\r\n",
                "FROM [Projects].[dbo].[EmployeeDemographics] AS Demo\r\n",
                "JOIN [Projects].[dbo].[EmployeeSalary] AS Sal\r\n",
                "    ON Demo.EmployeeID = Sal.EmployeeID"
            ],
            "metadata": {
                "language": "sql",
                "azdata_cell_guid": "7af1e633-83ae-4bfe-8312-efa9fac27f9c"
            },
            "outputs": [
                {
                    "output_type": "display_data",
                    "data": {
                        "text/html": "(8 rows affected)"
                    },
                    "metadata": {}
                },
                {
                    "output_type": "display_data",
                    "data": {
                        "text/html": "Total execution time: 00:00:00.015"
                    },
                    "metadata": {}
                },
                {
                    "output_type": "execute_result",
                    "metadata": {},
                    "execution_count": 18,
                    "data": {
                        "application/vnd.dataresource+json": {
                            "schema": {
                                "fields": [
                                    {
                                        "name": "EmployeeID"
                                    },
                                    {
                                        "name": "Salary"
                                    }
                                ]
                            },
                            "data": [
                                {
                                    "EmployeeID": "1001",
                                    "Salary": "45000"
                                },
                                {
                                    "EmployeeID": "1003",
                                    "Salary": "63000"
                                },
                                {
                                    "EmployeeID": "1004",
                                    "Salary": "47000"
                                },
                                {
                                    "EmployeeID": "1005",
                                    "Salary": "50000"
                                },
                                {
                                    "EmployeeID": "1006",
                                    "Salary": "65000"
                                },
                                {
                                    "EmployeeID": "1007",
                                    "Salary": "41000"
                                },
                                {
                                    "EmployeeID": "1008",
                                    "Salary": "48000"
                                },
                                {
                                    "EmployeeID": "1009",
                                    "Salary": "42000"
                                }
                            ]
                        },
                        "text/html": [
                            "<table>",
                            "<tr><th>EmployeeID</th><th>Salary</th></tr>",
                            "<tr><td>1001</td><td>45000</td></tr>",
                            "<tr><td>1003</td><td>63000</td></tr>",
                            "<tr><td>1004</td><td>47000</td></tr>",
                            "<tr><td>1005</td><td>50000</td></tr>",
                            "<tr><td>1006</td><td>65000</td></tr>",
                            "<tr><td>1007</td><td>41000</td></tr>",
                            "<tr><td>1008</td><td>48000</td></tr>",
                            "<tr><td>1009</td><td>42000</td></tr>",
                            "</table>"
                        ]
                    }
                }
            ],
            "execution_count": 18
        },
        {
            "cell_type": "code",
            "source": [
                "SELECT Demo.EmployeeID, Demo.FirstName, Demo.LastName, Sal.JobTitle, Ware.Age\r\n",
                "FROM [Projects].[dbo].[EmployeeDemographics] AS Demo\r\n",
                "LEFT JOIN [Projects].[dbo].[EmployeeSalary] AS Sal\r\n",
                "    ON Demo.EmployeeID = Sal.EmployeeID\r\n",
                "LEFT JOIN [Projects].[dbo].[WareHouseEmployeeDemographics] AS Ware\r\n",
                "    ON Demo.EmployeeID = Ware.EmployeeID"
            ],
            "metadata": {
                "language": "sql",
                "azdata_cell_guid": "12902372-2f7a-44f3-98da-b9348437f969"
            },
            "outputs": [
                {
                    "output_type": "display_data",
                    "data": {
                        "text/html": "(11 rows affected)"
                    },
                    "metadata": {}
                },
                {
                    "output_type": "display_data",
                    "data": {
                        "text/html": "Total execution time: 00:00:00.056"
                    },
                    "metadata": {}
                },
                {
                    "output_type": "execute_result",
                    "metadata": {},
                    "execution_count": 19,
                    "data": {
                        "application/vnd.dataresource+json": {
                            "schema": {
                                "fields": [
                                    {
                                        "name": "EmployeeID"
                                    },
                                    {
                                        "name": "FirstName"
                                    },
                                    {
                                        "name": "LastName"
                                    },
                                    {
                                        "name": "JobTitle"
                                    },
                                    {
                                        "name": "Age"
                                    }
                                ]
                            },
                            "data": [
                                {
                                    "EmployeeID": "1001",
                                    "FirstName": "Jim",
                                    "LastName": "Halpert",
                                    "JobTitle": "Salesman",
                                    "Age": "NULL"
                                },
                                {
                                    "EmployeeID": "1003",
                                    "FirstName": "Dwight",
                                    "LastName": "Schrute",
                                    "JobTitle": "Salesman",
                                    "Age": "NULL"
                                },
                                {
                                    "EmployeeID": "1004",
                                    "FirstName": "Angela",
                                    "LastName": "Martin",
                                    "JobTitle": "Accountant",
                                    "Age": "NULL"
                                },
                                {
                                    "EmployeeID": "1005",
                                    "FirstName": "Toby",
                                    "LastName": "Flenderson",
                                    "JobTitle": "HR",
                                    "Age": "NULL"
                                },
                                {
                                    "EmployeeID": "1006",
                                    "FirstName": "Michael",
                                    "LastName": "Scott",
                                    "JobTitle": "Regional Manager",
                                    "Age": "NULL"
                                },
                                {
                                    "EmployeeID": "1007",
                                    "FirstName": "Meredith",
                                    "LastName": "Palmer",
                                    "JobTitle": "Supplier Relations",
                                    "Age": "NULL"
                                },
                                {
                                    "EmployeeID": "1008",
                                    "FirstName": "Stanley",
                                    "LastName": "Hudson",
                                    "JobTitle": "Salesman",
                                    "Age": "NULL"
                                },
                                {
                                    "EmployeeID": "1009",
                                    "FirstName": "Kevin",
                                    "LastName": "Malone",
                                    "JobTitle": "Accountant",
                                    "Age": "NULL"
                                },
                                {
                                    "EmployeeID": "1011",
                                    "FirstName": "Ryan",
                                    "LastName": "Howard",
                                    "JobTitle": "NULL",
                                    "Age": "NULL"
                                },
                                {
                                    "EmployeeID": "1012",
                                    "FirstName": "Holly",
                                    "LastName": "Flax",
                                    "JobTitle": "NULL",
                                    "Age": "NULL"
                                },
                                {
                                    "EmployeeID": "1013",
                                    "FirstName": "Darryl",
                                    "LastName": "Philbin",
                                    "JobTitle": "NULL",
                                    "Age": "NULL"
                                }
                            ]
                        },
                        "text/html": [
                            "<table>",
                            "<tr><th>EmployeeID</th><th>FirstName</th><th>LastName</th><th>JobTitle</th><th>Age</th></tr>",
                            "<tr><td>1001</td><td>Jim</td><td>Halpert</td><td>Salesman</td><td>NULL</td></tr>",
                            "<tr><td>1003</td><td>Dwight</td><td>Schrute</td><td>Salesman</td><td>NULL</td></tr>",
                            "<tr><td>1004</td><td>Angela</td><td>Martin</td><td>Accountant</td><td>NULL</td></tr>",
                            "<tr><td>1005</td><td>Toby</td><td>Flenderson</td><td>HR</td><td>NULL</td></tr>",
                            "<tr><td>1006</td><td>Michael</td><td>Scott</td><td>Regional Manager</td><td>NULL</td></tr>",
                            "<tr><td>1007</td><td>Meredith</td><td>Palmer</td><td>Supplier Relations</td><td>NULL</td></tr>",
                            "<tr><td>1008</td><td>Stanley</td><td>Hudson</td><td>Salesman</td><td>NULL</td></tr>",
                            "<tr><td>1009</td><td>Kevin</td><td>Malone</td><td>Accountant</td><td>NULL</td></tr>",
                            "<tr><td>1011</td><td>Ryan</td><td>Howard</td><td>NULL</td><td>NULL</td></tr>",
                            "<tr><td>1012</td><td>Holly</td><td>Flax</td><td>NULL</td><td>NULL</td></tr>",
                            "<tr><td>1013</td><td>Darryl</td><td>Philbin</td><td>NULL</td><td>NULL</td></tr>",
                            "</table>"
                        ]
                    }
                }
            ],
            "execution_count": 19
        },
        {
            "cell_type": "markdown",
            "source": [
                "# PARTITION BY"
            ],
            "metadata": {
                "language": "sql",
                "azdata_cell_guid": "b91692a3-72a3-415b-9b3c-c73843e383d6"
            },
            "attachments": {}
        },
        {
            "cell_type": "code",
            "source": [
                "SELECT *\r\n",
                "FROM [Projects].[dbo].[EmployeeDemographics]\r\n",
                "\r\n",
                "SELECT *\r\n",
                "FROM [Projects].[dbo].[EmployeeSalary]\r\n",
                "\r\n",
                "SELECT *\r\n",
                "FROM [Projects].[dbo].[EmployeeDemographics] AS dem \r\n",
                "JOIN [Projects].[dbo].[EmployeeSalary] AS sal \r\n",
                "    ON dem.EmployeeID = sal.EmployeeID"
            ],
            "metadata": {
                "language": "sql",
                "azdata_cell_guid": "ca288426-5a92-48f5-8888-eb1cb448768c"
            },
            "outputs": [
                {
                    "output_type": "display_data",
                    "data": {
                        "text/html": "(11 rows affected)"
                    },
                    "metadata": {}
                },
                {
                    "output_type": "display_data",
                    "data": {
                        "text/html": "(11 rows affected)"
                    },
                    "metadata": {}
                },
                {
                    "output_type": "display_data",
                    "data": {
                        "text/html": "(8 rows affected)"
                    },
                    "metadata": {}
                },
                {
                    "output_type": "display_data",
                    "data": {
                        "text/html": "Total execution time: 00:00:00.018"
                    },
                    "metadata": {}
                },
                {
                    "output_type": "execute_result",
                    "metadata": {},
                    "execution_count": 21,
                    "data": {
                        "application/vnd.dataresource+json": {
                            "schema": {
                                "fields": [
                                    {
                                        "name": "EmployeeID"
                                    },
                                    {
                                        "name": "FirstName"
                                    },
                                    {
                                        "name": "LastName"
                                    },
                                    {
                                        "name": "Age"
                                    },
                                    {
                                        "name": "Gender"
                                    }
                                ]
                            },
                            "data": [
                                {
                                    "EmployeeID": "1001",
                                    "FirstName": "Jim",
                                    "LastName": "Halpert",
                                    "Age": "30",
                                    "Gender": "Male"
                                },
                                {
                                    "EmployeeID": "1003",
                                    "FirstName": "Dwight",
                                    "LastName": "Schrute",
                                    "Age": "29",
                                    "Gender": "Male"
                                },
                                {
                                    "EmployeeID": "1004",
                                    "FirstName": "Angela",
                                    "LastName": "Martin",
                                    "Age": "31",
                                    "Gender": "Female"
                                },
                                {
                                    "EmployeeID": "1005",
                                    "FirstName": "Toby",
                                    "LastName": "Flenderson",
                                    "Age": "32",
                                    "Gender": "Male"
                                },
                                {
                                    "EmployeeID": "1006",
                                    "FirstName": "Michael",
                                    "LastName": "Scott",
                                    "Age": "35",
                                    "Gender": "Male"
                                },
                                {
                                    "EmployeeID": "1007",
                                    "FirstName": "Meredith",
                                    "LastName": "Palmer",
                                    "Age": "32",
                                    "Gender": "Female"
                                },
                                {
                                    "EmployeeID": "1008",
                                    "FirstName": "Stanley",
                                    "LastName": "Hudson",
                                    "Age": "38",
                                    "Gender": "Male"
                                },
                                {
                                    "EmployeeID": "1009",
                                    "FirstName": "Kevin",
                                    "LastName": "Malone",
                                    "Age": "31",
                                    "Gender": "Male"
                                },
                                {
                                    "EmployeeID": "1011",
                                    "FirstName": "Ryan",
                                    "LastName": "Howard",
                                    "Age": "26",
                                    "Gender": "Male"
                                },
                                {
                                    "EmployeeID": "1012",
                                    "FirstName": "Holly",
                                    "LastName": "Flax",
                                    "Age": "31",
                                    "Gender": "Female"
                                },
                                {
                                    "EmployeeID": "1013",
                                    "FirstName": "Darryl",
                                    "LastName": "Philbin",
                                    "Age": "NULL",
                                    "Gender": "Male"
                                }
                            ]
                        },
                        "text/html": [
                            "<table>",
                            "<tr><th>EmployeeID</th><th>FirstName</th><th>LastName</th><th>Age</th><th>Gender</th></tr>",
                            "<tr><td>1001</td><td>Jim</td><td>Halpert</td><td>30</td><td>Male</td></tr>",
                            "<tr><td>1003</td><td>Dwight</td><td>Schrute</td><td>29</td><td>Male</td></tr>",
                            "<tr><td>1004</td><td>Angela</td><td>Martin</td><td>31</td><td>Female</td></tr>",
                            "<tr><td>1005</td><td>Toby</td><td>Flenderson</td><td>32</td><td>Male</td></tr>",
                            "<tr><td>1006</td><td>Michael</td><td>Scott</td><td>35</td><td>Male</td></tr>",
                            "<tr><td>1007</td><td>Meredith</td><td>Palmer</td><td>32</td><td>Female</td></tr>",
                            "<tr><td>1008</td><td>Stanley</td><td>Hudson</td><td>38</td><td>Male</td></tr>",
                            "<tr><td>1009</td><td>Kevin</td><td>Malone</td><td>31</td><td>Male</td></tr>",
                            "<tr><td>1011</td><td>Ryan</td><td>Howard</td><td>26</td><td>Male</td></tr>",
                            "<tr><td>1012</td><td>Holly</td><td>Flax</td><td>31</td><td>Female</td></tr>",
                            "<tr><td>1013</td><td>Darryl</td><td>Philbin</td><td>NULL</td><td>Male</td></tr>",
                            "</table>"
                        ]
                    }
                },
                {
                    "output_type": "execute_result",
                    "metadata": {},
                    "execution_count": 21,
                    "data": {
                        "application/vnd.dataresource+json": {
                            "schema": {
                                "fields": [
                                    {
                                        "name": "EmployeeID"
                                    },
                                    {
                                        "name": "JobTitle"
                                    },
                                    {
                                        "name": "Salary"
                                    }
                                ]
                            },
                            "data": [
                                {
                                    "EmployeeID": "1001",
                                    "JobTitle": "Salesman",
                                    "Salary": "45000"
                                },
                                {
                                    "EmployeeID": "1002",
                                    "JobTitle": "Receptionist",
                                    "Salary": "36000"
                                },
                                {
                                    "EmployeeID": "1003",
                                    "JobTitle": "Salesman",
                                    "Salary": "63000"
                                },
                                {
                                    "EmployeeID": "1004",
                                    "JobTitle": "Accountant",
                                    "Salary": "47000"
                                },
                                {
                                    "EmployeeID": "1005",
                                    "JobTitle": "HR",
                                    "Salary": "50000"
                                },
                                {
                                    "EmployeeID": "1006",
                                    "JobTitle": "Regional Manager",
                                    "Salary": "65000"
                                },
                                {
                                    "EmployeeID": "1007",
                                    "JobTitle": "Supplier Relations",
                                    "Salary": "41000"
                                },
                                {
                                    "EmployeeID": "1008",
                                    "JobTitle": "Salesman",
                                    "Salary": "48000"
                                },
                                {
                                    "EmployeeID": "1009",
                                    "JobTitle": "Accountant",
                                    "Salary": "42000"
                                },
                                {
                                    "EmployeeID": "1010",
                                    "JobTitle": "NULL",
                                    "Salary": "47000"
                                },
                                {
                                    "EmployeeID": "NULL",
                                    "JobTitle": "Salesman",
                                    "Salary": "43000"
                                }
                            ]
                        },
                        "text/html": [
                            "<table>",
                            "<tr><th>EmployeeID</th><th>JobTitle</th><th>Salary</th></tr>",
                            "<tr><td>1001</td><td>Salesman</td><td>45000</td></tr>",
                            "<tr><td>1002</td><td>Receptionist</td><td>36000</td></tr>",
                            "<tr><td>1003</td><td>Salesman</td><td>63000</td></tr>",
                            "<tr><td>1004</td><td>Accountant</td><td>47000</td></tr>",
                            "<tr><td>1005</td><td>HR</td><td>50000</td></tr>",
                            "<tr><td>1006</td><td>Regional Manager</td><td>65000</td></tr>",
                            "<tr><td>1007</td><td>Supplier Relations</td><td>41000</td></tr>",
                            "<tr><td>1008</td><td>Salesman</td><td>48000</td></tr>",
                            "<tr><td>1009</td><td>Accountant</td><td>42000</td></tr>",
                            "<tr><td>1010</td><td>NULL</td><td>47000</td></tr>",
                            "<tr><td>NULL</td><td>Salesman</td><td>43000</td></tr>",
                            "</table>"
                        ]
                    }
                },
                {
                    "output_type": "execute_result",
                    "metadata": {},
                    "execution_count": 21,
                    "data": {
                        "application/vnd.dataresource+json": {
                            "schema": {
                                "fields": [
                                    {
                                        "name": "EmployeeID"
                                    },
                                    {
                                        "name": "FirstName"
                                    },
                                    {
                                        "name": "LastName"
                                    },
                                    {
                                        "name": "Age"
                                    },
                                    {
                                        "name": "Gender"
                                    },
                                    {
                                        "name": "EmployeeID"
                                    },
                                    {
                                        "name": "JobTitle"
                                    },
                                    {
                                        "name": "Salary"
                                    }
                                ]
                            },
                            "data": [
                                {
                                    "EmployeeID": "1001",
                                    "FirstName": "Jim",
                                    "LastName": "Halpert",
                                    "Age": "30",
                                    "Gender": "Male",
                                    "JobTitle": "Salesman",
                                    "Salary": "45000"
                                },
                                {
                                    "EmployeeID": "1003",
                                    "FirstName": "Dwight",
                                    "LastName": "Schrute",
                                    "Age": "29",
                                    "Gender": "Male",
                                    "JobTitle": "Salesman",
                                    "Salary": "63000"
                                },
                                {
                                    "EmployeeID": "1004",
                                    "FirstName": "Angela",
                                    "LastName": "Martin",
                                    "Age": "31",
                                    "Gender": "Female",
                                    "JobTitle": "Accountant",
                                    "Salary": "47000"
                                },
                                {
                                    "EmployeeID": "1005",
                                    "FirstName": "Toby",
                                    "LastName": "Flenderson",
                                    "Age": "32",
                                    "Gender": "Male",
                                    "JobTitle": "HR",
                                    "Salary": "50000"
                                },
                                {
                                    "EmployeeID": "1006",
                                    "FirstName": "Michael",
                                    "LastName": "Scott",
                                    "Age": "35",
                                    "Gender": "Male",
                                    "JobTitle": "Regional Manager",
                                    "Salary": "65000"
                                },
                                {
                                    "EmployeeID": "1007",
                                    "FirstName": "Meredith",
                                    "LastName": "Palmer",
                                    "Age": "32",
                                    "Gender": "Female",
                                    "JobTitle": "Supplier Relations",
                                    "Salary": "41000"
                                },
                                {
                                    "EmployeeID": "1008",
                                    "FirstName": "Stanley",
                                    "LastName": "Hudson",
                                    "Age": "38",
                                    "Gender": "Male",
                                    "JobTitle": "Salesman",
                                    "Salary": "48000"
                                },
                                {
                                    "EmployeeID": "1009",
                                    "FirstName": "Kevin",
                                    "LastName": "Malone",
                                    "Age": "31",
                                    "Gender": "Male",
                                    "JobTitle": "Accountant",
                                    "Salary": "42000"
                                }
                            ]
                        },
                        "text/html": [
                            "<table>",
                            "<tr><th>EmployeeID</th><th>FirstName</th><th>LastName</th><th>Age</th><th>Gender</th><th>EmployeeID</th><th>JobTitle</th><th>Salary</th></tr>",
                            "<tr><td>1001</td><td>Jim</td><td>Halpert</td><td>30</td><td>Male</td><td>1001</td><td>Salesman</td><td>45000</td></tr>",
                            "<tr><td>1003</td><td>Dwight</td><td>Schrute</td><td>29</td><td>Male</td><td>1003</td><td>Salesman</td><td>63000</td></tr>",
                            "<tr><td>1004</td><td>Angela</td><td>Martin</td><td>31</td><td>Female</td><td>1004</td><td>Accountant</td><td>47000</td></tr>",
                            "<tr><td>1005</td><td>Toby</td><td>Flenderson</td><td>32</td><td>Male</td><td>1005</td><td>HR</td><td>50000</td></tr>",
                            "<tr><td>1006</td><td>Michael</td><td>Scott</td><td>35</td><td>Male</td><td>1006</td><td>Regional Manager</td><td>65000</td></tr>",
                            "<tr><td>1007</td><td>Meredith</td><td>Palmer</td><td>32</td><td>Female</td><td>1007</td><td>Supplier Relations</td><td>41000</td></tr>",
                            "<tr><td>1008</td><td>Stanley</td><td>Hudson</td><td>38</td><td>Male</td><td>1008</td><td>Salesman</td><td>48000</td></tr>",
                            "<tr><td>1009</td><td>Kevin</td><td>Malone</td><td>31</td><td>Male</td><td>1009</td><td>Accountant</td><td>42000</td></tr>",
                            "</table>"
                        ]
                    }
                }
            ],
            "execution_count": 21
        },
        {
            "cell_type": "code",
            "source": [
                "SELECT FirstName, LastName, Gender, Salary, COUNT(Gender) OVER (PARTITION BY Gender) as TotalGender\r\n",
                "FROM [Projects].[dbo].[EmployeeDemographics] AS dem \r\n",
                "JOIN [Projects].[dbo].[EmployeeSalary] AS sal \r\n",
                "    ON dem.EmployeeID = sal.EmployeeID\r\n",
                "\r\n",
                "\r\n",
                "SELECT Gender, COUNT(Gender)\r\n",
                "FROM [Projects].[dbo].[EmployeeDemographics] AS dem \r\n",
                "JOIN [Projects].[dbo].[EmployeeSalary] AS sal \r\n",
                "    ON dem.EmployeeID = sal.EmployeeID\r\n",
                "GROUP BY Gender"
            ],
            "metadata": {
                "language": "sql",
                "azdata_cell_guid": "ccb90b34-449c-4a4f-b3e2-4052fe790dac"
            },
            "outputs": [
{
    "output_type": "display_data",
    "data": {
        "text/html": "(8 rows affected)"
    },
    "metadata": {}
}, {
    "output_type": "display_data",
    "data": {
        "text/html": "(2 rows affected)"
    },
    "metadata": {}
}, {
    "output_type": "display_data",
    "data": {
        "text/html": "Total execution time: 00:00:00.014"
    },
    "metadata": {}
}, {
    "output_type": "execute_result",
    "metadata": {},
    "execution_count": 23,
    "data": {
        "application/vnd.dataresource+json": {
            "schema": {
                "fields": [
                    {
                        "name": "FirstName"
                    },
                    {
                        "name": "LastName"
                    },
                    {
                        "name": "Gender"
                    },
                    {
                        "name": "Salary"
                    },
                    {
                        "name": "TotalGender"
                    }
                ]
            },
            "data": [
                {
                    "FirstName": "Angela",
                    "LastName": "Martin",
                    "Gender": "Female",
                    "Salary": "47000",
                    "TotalGender": "2"
                },
                {
                    "FirstName": "Meredith",
                    "LastName": "Palmer",
                    "Gender": "Female",
                    "Salary": "41000",
                    "TotalGender": "2"
                },
                {
                    "FirstName": "Stanley",
                    "LastName": "Hudson",
                    "Gender": "Male",
                    "Salary": "48000",
                    "TotalGender": "6"
                },
                {
                    "FirstName": "Kevin",
                    "LastName": "Malone",
                    "Gender": "Male",
                    "Salary": "42000",
                    "TotalGender": "6"
                },
                {
                    "FirstName": "Toby",
                    "LastName": "Flenderson",
                    "Gender": "Male",
                    "Salary": "50000",
                    "TotalGender": "6"
                },
                {
                    "FirstName": "Michael",
                    "LastName": "Scott",
                    "Gender": "Male",
                    "Salary": "65000",
                    "TotalGender": "6"
                },
                {
                    "FirstName": "Jim",
                    "LastName": "Halpert",
                    "Gender": "Male",
                    "Salary": "45000",
                    "TotalGender": "6"
                },
                {
                    "FirstName": "Dwight",
                    "LastName": "Schrute",
                    "Gender": "Male",
                    "Salary": "63000",
                    "TotalGender": "6"
                }
            ]
        },
        "text/html": [
            "<table>",
            "<tr><th>FirstName</th><th>LastName</th><th>Gender</th><th>Salary</th><th>TotalGender</th></tr>",
            "<tr><td>Angela</td><td>Martin</td><td>Female</td><td>47000</td><td>2</td></tr>",
            "<tr><td>Meredith</td><td>Palmer</td><td>Female</td><td>41000</td><td>2</td></tr>",
            "<tr><td>Stanley</td><td>Hudson</td><td>Male</td><td>48000</td><td>6</td></tr>",
            "<tr><td>Kevin</td><td>Malone</td><td>Male</td><td>42000</td><td>6</td></tr>",
            "<tr><td>Toby</td><td>Flenderson</td><td>Male</td><td>50000</td><td>6</td></tr>",
            "<tr><td>Michael</td><td>Scott</td><td>Male</td><td>65000</td><td>6</td></tr>",
            "<tr><td>Jim</td><td>Halpert</td><td>Male</td><td>45000</td><td>6</td></tr>",
            "<tr><td>Dwight</td><td>Schrute</td><td>Male</td><td>63000</td><td>6</td></tr>",
            "</table>"
        ]
    }
}, {
    "output_type": "execute_result",
    "metadata": {},
    "execution_count": 23,
    "data": {
        "application/vnd.dataresource+json": {
            "schema": {
                "fields": [
                    {
                        "name": "Gender"
                    },
                    {
                        "name": "(No column name)"
                    }
                ]
            },
            "data": [
                {
                    "Gender": "Female",
                    "(No column name)": "2"
                },
                {
                    "Gender": "Male",
                    "(No column name)": "6"
                }
            ]
        },
        "text/html": [
            "<table>",
            "<tr><th>Gender</th><th>(No column name)</th></tr>",
            "<tr><td>Female</td><td>2</td></tr>",
            "<tr><td>Male</td><td>6</td></tr>",
            "</table>"
        ]
    }
}
],
            "execution_count": 23
        }
    ]
}