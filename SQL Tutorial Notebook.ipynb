{
    "metadata": {
        "kernelspec": {
            "name": "SQL",
            "display_name": "SQL",
            "language": "sql"
        },
        "language_info": {
            "name": "sql",
            "version": ""
        }
    },
    "nbformat_minor": 2,
    "nbformat": 4,
    "cells": [
        {
            "cell_type": "markdown",
            "source": [
                "Joins"
            ],
            "metadata": {
                "azdata_cell_guid": "d6c1040e-e6f6-40c9-b378-68dce5035714"
            },
            "attachments": {}
        },
        {
            "cell_type": "code",
            "source": [
                "-- Create Table EmployeeDemographics \r\n",
                "-- (EmployeeID int, \r\n",
                "-- FirstName varchar(50), \r\n",
                "-- LastName varchar(50), \r\n",
                "-- Age int, \r\n",
                "-- Gender varchar(50)\r\n",
                "-- )\r\n",
                "\r\n",
                "-- Create Table EmployeeSalary \r\n",
                "-- (EmployeeID int, \r\n",
                "-- JobTitle varchar(50), \r\n",
                "-- Salary int\r\n",
                "-- )\r\n",
                "\r\n",
                "-- Create Table WareHouseEmployeeDemographics \r\n",
                "-- (EmployeeID int, \r\n",
                "-- FirstName varchar(50), \r\n",
                "-- LastName varchar(50), \r\n",
                "-- Age int, \r\n",
                "-- Gender varchar(50)\r\n",
                "-- )\r\n",
                ""
            ],
            "metadata": {
                "azdata_cell_guid": "e8d07c97-2397-43ed-9f4b-fb122082d8fe",
                "language": "sql"
            },
            "outputs": [
                {
                    "output_type": "display_data",
                    "data": {
                        "text/html": "Commands completed successfully."
                    },
                    "metadata": {}
                },
                {
                    "output_type": "display_data",
                    "data": {
                        "text/html": "Total execution time: 00:00:00.009"
                    },
                    "metadata": {}
                }
            ],
            "execution_count": 1
        },
        {
            "cell_type": "code",
            "source": [
                "-- Insert into [Projects].[dbo].[EmployeeDemographics] VALUES\r\n",
                "-- (1001, 'Jim', 'Halpert', 30, 'Male'),\r\n",
                "-- (1002, 'Pam', 'Beasley', 30, 'Female'),\r\n",
                "-- (1003, 'Dwight', 'Schrute', 29, 'Male'),\r\n",
                "-- (1004, 'Angela', 'Martin', 31, 'Female'),\r\n",
                "-- (1005, 'Toby', 'Flenderson', 32, 'Male'),\r\n",
                "-- (1006, 'Michael', 'Scott', 35, 'Male'),\r\n",
                "-- (1007, 'Meredith', 'Palmer', 32, 'Female'),\r\n",
                "-- (1008, 'Stanley', 'Hudson', 38, 'Male'),\r\n",
                "-- (1009, 'Kevin', 'Malone', 31, 'Male'),\r\n",
                "-- (1011, 'Ryan', 'Howard', 26, 'Male'),\r\n",
                "-- (Null, 'Holly', 'Flax',Null , 'Female'),\r\n",
                "-- (1013, 'Darryl', 'Philbin', Null, 'Male')\r\n",
                "\r\n",
                "\r\n",
                "-- Insert Into [Projects].[dbo].[EmployeeSalary] VALUES\r\n",
                "-- (1001, 'Salesman', 45000),\r\n",
                "-- (1002, 'Receptionist', 36000),\r\n",
                "-- (1003, 'Salesman', 63000),\r\n",
                "-- (1004, 'Accountant', 47000),\r\n",
                "-- (1005, 'HR', 50000),\r\n",
                "-- (1006, 'Regional Manager', 65000),\r\n",
                "-- (1007, 'Supplier Relations', 41000),\r\n",
                "-- (1008, 'Salesman', 48000),\r\n",
                "-- (1009, 'Accountant', 42000),\r\n",
                "-- (1010, Null, 47000),\r\n",
                "-- (Null, 'Salesman', 43000)\r\n",
                "\r\n",
                "-- Insert into [Projects].[dbo].[WareHouseEmployeeDemographics] VALUES\r\n",
                "-- (1013, 'Darryl', 'Philbin', NULL, 'Male'),\r\n",
                "-- (1050, 'Roy', 'Anderson', 31, 'Male'),\r\n",
                "-- (1051, 'Hidetoshi', 'Hasagawa', 40, 'Male'),\r\n",
                "-- (1052, 'Val', 'Johnson', 31, 'Female')\r\n",
                ""
            ],
            "metadata": {
                "language": "sql",
                "azdata_cell_guid": "589bcaf0-a8c3-4722-916d-686b4d095795"
            },
            "outputs": [
                {
                    "output_type": "display_data",
                    "data": {
                        "text/html": "Commands completed successfully."
                    },
                    "metadata": {}
                },
                {
                    "output_type": "display_data",
                    "data": {
                        "text/html": "Total execution time: 00:00:00"
                    },
                    "metadata": {}
                }
            ],
            "execution_count": 2
        },
        {
            "cell_type": "code",
            "source": [
                "SELECT * FROM [Projects].[dbo].[EmployeeDemographics]\r\n",
                "\r\n",
                "SELECT * FROM [Projects].[dbo].[EmployeeSalary]\r\n",
                "\r\n",
                "SELECT * FROM [Projects].[dbo].[WareHouseEmployeeDemographics]"
            ],
            "metadata": {
                "language": "sql",
                "azdata_cell_guid": "b72ed137-d23a-48b1-ac33-927338a511f8"
            },
            "outputs": [
                {
                    "output_type": "display_data",
                    "data": {
                        "text/html": "(12 rows affected)"
                    },
                    "metadata": {}
                },
                {
                    "output_type": "display_data",
                    "data": {
                        "text/html": "(11 rows affected)"
                    },
                    "metadata": {}
                },
                {
                    "output_type": "display_data",
                    "data": {
                        "text/html": "(4 rows affected)"
                    },
                    "metadata": {}
                },
                {
                    "output_type": "display_data",
                    "data": {
                        "text/html": "Total execution time: 00:00:00.131"
                    },
                    "metadata": {}
                },
                {
                    "output_type": "execute_result",
                    "metadata": {},
                    "execution_count": 3,
                    "data": {
                        "application/vnd.dataresource+json": {
                            "schema": {
                                "fields": [
                                    {
                                        "name": "EmployeeID"
                                    },
                                    {
                                        "name": "FirstName"
                                    },
                                    {
                                        "name": "LastName"
                                    },
                                    {
                                        "name": "Age"
                                    },
                                    {
                                        "name": "Gender"
                                    }
                                ]
                            },
                            "data": [
                                {
                                    "EmployeeID": "1001",
                                    "FirstName": "Jim",
                                    "LastName": "Halpert",
                                    "Age": "30",
                                    "Gender": "Male"
                                },
                                {
                                    "EmployeeID": "1002",
                                    "FirstName": "Pam",
                                    "LastName": "Beasley",
                                    "Age": "30",
                                    "Gender": "Female"
                                },
                                {
                                    "EmployeeID": "1003",
                                    "FirstName": "Dwight",
                                    "LastName": "Schrute",
                                    "Age": "29",
                                    "Gender": "Male"
                                },
                                {
                                    "EmployeeID": "1004",
                                    "FirstName": "Angela",
                                    "LastName": "Martin",
                                    "Age": "31",
                                    "Gender": "Female"
                                },
                                {
                                    "EmployeeID": "1005",
                                    "FirstName": "Toby",
                                    "LastName": "Flenderson",
                                    "Age": "32",
                                    "Gender": "Male"
                                },
                                {
                                    "EmployeeID": "1006",
                                    "FirstName": "Michael",
                                    "LastName": "Scott",
                                    "Age": "35",
                                    "Gender": "Male"
                                },
                                {
                                    "EmployeeID": "1007",
                                    "FirstName": "Meredith",
                                    "LastName": "Palmer",
                                    "Age": "32",
                                    "Gender": "Female"
                                },
                                {
                                    "EmployeeID": "1008",
                                    "FirstName": "Stanley",
                                    "LastName": "Hudson",
                                    "Age": "38",
                                    "Gender": "Male"
                                },
                                {
                                    "EmployeeID": "1009",
                                    "FirstName": "Kevin",
                                    "LastName": "Malone",
                                    "Age": "31",
                                    "Gender": "Male"
                                },
                                {
                                    "EmployeeID": "1011",
                                    "FirstName": "Ryan",
                                    "LastName": "Howard",
                                    "Age": "26",
                                    "Gender": "Male"
                                },
                                {
                                    "EmployeeID": "NULL",
                                    "FirstName": "Holly",
                                    "LastName": "Flax",
                                    "Age": "NULL",
                                    "Gender": "Female"
                                },
                                {
                                    "EmployeeID": "1013",
                                    "FirstName": "Darryl",
                                    "LastName": "Philbin",
                                    "Age": "NULL",
                                    "Gender": "Male"
                                }
                            ]
                        },
                        "text/html": [
                            "<table>",
                            "<tr><th>EmployeeID</th><th>FirstName</th><th>LastName</th><th>Age</th><th>Gender</th></tr>",
                            "<tr><td>1001</td><td>Jim</td><td>Halpert</td><td>30</td><td>Male</td></tr>",
                            "<tr><td>1002</td><td>Pam</td><td>Beasley</td><td>30</td><td>Female</td></tr>",
                            "<tr><td>1003</td><td>Dwight</td><td>Schrute</td><td>29</td><td>Male</td></tr>",
                            "<tr><td>1004</td><td>Angela</td><td>Martin</td><td>31</td><td>Female</td></tr>",
                            "<tr><td>1005</td><td>Toby</td><td>Flenderson</td><td>32</td><td>Male</td></tr>",
                            "<tr><td>1006</td><td>Michael</td><td>Scott</td><td>35</td><td>Male</td></tr>",
                            "<tr><td>1007</td><td>Meredith</td><td>Palmer</td><td>32</td><td>Female</td></tr>",
                            "<tr><td>1008</td><td>Stanley</td><td>Hudson</td><td>38</td><td>Male</td></tr>",
                            "<tr><td>1009</td><td>Kevin</td><td>Malone</td><td>31</td><td>Male</td></tr>",
                            "<tr><td>1011</td><td>Ryan</td><td>Howard</td><td>26</td><td>Male</td></tr>",
                            "<tr><td>NULL</td><td>Holly</td><td>Flax</td><td>NULL</td><td>Female</td></tr>",
                            "<tr><td>1013</td><td>Darryl</td><td>Philbin</td><td>NULL</td><td>Male</td></tr>",
                            "</table>"
                        ]
                    }
                },
                {
                    "output_type": "execute_result",
                    "metadata": {},
                    "execution_count": 3,
                    "data": {
                        "application/vnd.dataresource+json": {
                            "schema": {
                                "fields": [
                                    {
                                        "name": "EmployeeID"
                                    },
                                    {
                                        "name": "JobTitle"
                                    },
                                    {
                                        "name": "Salary"
                                    }
                                ]
                            },
                            "data": [
                                {
                                    "EmployeeID": "1001",
                                    "JobTitle": "Salesman",
                                    "Salary": "45000"
                                },
                                {
                                    "EmployeeID": "1002",
                                    "JobTitle": "Receptionist",
                                    "Salary": "36000"
                                },
                                {
                                    "EmployeeID": "1003",
                                    "JobTitle": "Salesman",
                                    "Salary": "63000"
                                },
                                {
                                    "EmployeeID": "1004",
                                    "JobTitle": "Accountant",
                                    "Salary": "47000"
                                },
                                {
                                    "EmployeeID": "1005",
                                    "JobTitle": "HR",
                                    "Salary": "50000"
                                },
                                {
                                    "EmployeeID": "1006",
                                    "JobTitle": "Regional Manager",
                                    "Salary": "65000"
                                },
                                {
                                    "EmployeeID": "1007",
                                    "JobTitle": "Supplier Relations",
                                    "Salary": "41000"
                                },
                                {
                                    "EmployeeID": "1008",
                                    "JobTitle": "Salesman",
                                    "Salary": "48000"
                                },
                                {
                                    "EmployeeID": "1009",
                                    "JobTitle": "Accountant",
                                    "Salary": "42000"
                                },
                                {
                                    "EmployeeID": "1010",
                                    "JobTitle": "NULL",
                                    "Salary": "47000"
                                },
                                {
                                    "EmployeeID": "NULL",
                                    "JobTitle": "Salesman",
                                    "Salary": "43000"
                                }
                            ]
                        },
                        "text/html": [
                            "<table>",
                            "<tr><th>EmployeeID</th><th>JobTitle</th><th>Salary</th></tr>",
                            "<tr><td>1001</td><td>Salesman</td><td>45000</td></tr>",
                            "<tr><td>1002</td><td>Receptionist</td><td>36000</td></tr>",
                            "<tr><td>1003</td><td>Salesman</td><td>63000</td></tr>",
                            "<tr><td>1004</td><td>Accountant</td><td>47000</td></tr>",
                            "<tr><td>1005</td><td>HR</td><td>50000</td></tr>",
                            "<tr><td>1006</td><td>Regional Manager</td><td>65000</td></tr>",
                            "<tr><td>1007</td><td>Supplier Relations</td><td>41000</td></tr>",
                            "<tr><td>1008</td><td>Salesman</td><td>48000</td></tr>",
                            "<tr><td>1009</td><td>Accountant</td><td>42000</td></tr>",
                            "<tr><td>1010</td><td>NULL</td><td>47000</td></tr>",
                            "<tr><td>NULL</td><td>Salesman</td><td>43000</td></tr>",
                            "</table>"
                        ]
                    }
                },
                {
                    "output_type": "execute_result",
                    "metadata": {},
                    "execution_count": 3,
                    "data": {
                        "application/vnd.dataresource+json": {
                            "schema": {
                                "fields": [
                                    {
                                        "name": "EmployeeID"
                                    },
                                    {
                                        "name": "FirstName"
                                    },
                                    {
                                        "name": "LastName"
                                    },
                                    {
                                        "name": "Age"
                                    },
                                    {
                                        "name": "Gender"
                                    }
                                ]
                            },
                            "data": [
                                {
                                    "EmployeeID": "1013",
                                    "FirstName": "Darryl",
                                    "LastName": "Philbin",
                                    "Age": "NULL",
                                    "Gender": "Male"
                                },
                                {
                                    "EmployeeID": "1050",
                                    "FirstName": "Roy",
                                    "LastName": "Anderson",
                                    "Age": "31",
                                    "Gender": "Male"
                                },
                                {
                                    "EmployeeID": "1051",
                                    "FirstName": "Hidetoshi",
                                    "LastName": "Hasagawa",
                                    "Age": "40",
                                    "Gender": "Male"
                                },
                                {
                                    "EmployeeID": "1052",
                                    "FirstName": "Val",
                                    "LastName": "Johnson",
                                    "Age": "31",
                                    "Gender": "Female"
                                }
                            ]
                        },
                        "text/html": [
                            "<table>",
                            "<tr><th>EmployeeID</th><th>FirstName</th><th>LastName</th><th>Age</th><th>Gender</th></tr>",
                            "<tr><td>1013</td><td>Darryl</td><td>Philbin</td><td>NULL</td><td>Male</td></tr>",
                            "<tr><td>1050</td><td>Roy</td><td>Anderson</td><td>31</td><td>Male</td></tr>",
                            "<tr><td>1051</td><td>Hidetoshi</td><td>Hasagawa</td><td>40</td><td>Male</td></tr>",
                            "<tr><td>1052</td><td>Val</td><td>Johnson</td><td>31</td><td>Female</td></tr>",
                            "</table>"
                        ]
                    }
                }
            ],
            "execution_count": 3
        },
        {
            "cell_type": "markdown",
            "source": [
                "# **JOINS**"
            ],
            "metadata": {
                "language": "sql",
                "azdata_cell_guid": "7690c020-7dba-4d81-802b-7160c35217ac"
            },
            "attachments": {}
        },
        {
            "cell_type": "markdown",
            "source": [
                "## Inner Joins"
            ],
            "metadata": {
                "language": "sql",
                "azdata_cell_guid": "9d8207b3-2acb-4b4e-b837-91311f383ed0"
            },
            "attachments": {}
        },
        {
            "cell_type": "code",
            "source": [
                "SELECT * FROM [Projects].[dbo].[EmployeeDemographics]\r\n",
                "Inner JOIN [Projects].[dbo].[EmployeeSalary]\r\n",
                "    ON EmployeeDemographics.EmployeeID = EmployeeSalary.EmployeeID\r\n",
                "\r\n",
                "-- Inner Join only shows items that are similar in both tables"
            ],
            "metadata": {
                "language": "sql",
                "azdata_cell_guid": "f82d0869-bdcc-4608-9745-b66b59aaf6fb"
            },
            "outputs": [
                {
                    "output_type": "display_data",
                    "data": {
                        "text/html": "(9 rows affected)"
                    },
                    "metadata": {}
                },
                {
                    "output_type": "display_data",
                    "data": {
                        "text/html": "Total execution time: 00:00:00.011"
                    },
                    "metadata": {}
                },
                {
                    "output_type": "execute_result",
                    "metadata": {},
                    "execution_count": 4,
                    "data": {
                        "application/vnd.dataresource+json": {
                            "schema": {
                                "fields": [
                                    {
                                        "name": "EmployeeID"
                                    },
                                    {
                                        "name": "FirstName"
                                    },
                                    {
                                        "name": "LastName"
                                    },
                                    {
                                        "name": "Age"
                                    },
                                    {
                                        "name": "Gender"
                                    },
                                    {
                                        "name": "EmployeeID"
                                    },
                                    {
                                        "name": "JobTitle"
                                    },
                                    {
                                        "name": "Salary"
                                    }
                                ]
                            },
                            "data": [
                                {
                                    "EmployeeID": "1001",
                                    "FirstName": "Jim",
                                    "LastName": "Halpert",
                                    "Age": "30",
                                    "Gender": "Male",
                                    "JobTitle": "Salesman",
                                    "Salary": "45000"
                                },
                                {
                                    "EmployeeID": "1002",
                                    "FirstName": "Pam",
                                    "LastName": "Beasley",
                                    "Age": "30",
                                    "Gender": "Female",
                                    "JobTitle": "Receptionist",
                                    "Salary": "36000"
                                },
                                {
                                    "EmployeeID": "1003",
                                    "FirstName": "Dwight",
                                    "LastName": "Schrute",
                                    "Age": "29",
                                    "Gender": "Male",
                                    "JobTitle": "Salesman",
                                    "Salary": "63000"
                                },
                                {
                                    "EmployeeID": "1004",
                                    "FirstName": "Angela",
                                    "LastName": "Martin",
                                    "Age": "31",
                                    "Gender": "Female",
                                    "JobTitle": "Accountant",
                                    "Salary": "47000"
                                },
                                {
                                    "EmployeeID": "1005",
                                    "FirstName": "Toby",
                                    "LastName": "Flenderson",
                                    "Age": "32",
                                    "Gender": "Male",
                                    "JobTitle": "HR",
                                    "Salary": "50000"
                                },
                                {
                                    "EmployeeID": "1006",
                                    "FirstName": "Michael",
                                    "LastName": "Scott",
                                    "Age": "35",
                                    "Gender": "Male",
                                    "JobTitle": "Regional Manager",
                                    "Salary": "65000"
                                },
                                {
                                    "EmployeeID": "1007",
                                    "FirstName": "Meredith",
                                    "LastName": "Palmer",
                                    "Age": "32",
                                    "Gender": "Female",
                                    "JobTitle": "Supplier Relations",
                                    "Salary": "41000"
                                },
                                {
                                    "EmployeeID": "1008",
                                    "FirstName": "Stanley",
                                    "LastName": "Hudson",
                                    "Age": "38",
                                    "Gender": "Male",
                                    "JobTitle": "Salesman",
                                    "Salary": "48000"
                                },
                                {
                                    "EmployeeID": "1009",
                                    "FirstName": "Kevin",
                                    "LastName": "Malone",
                                    "Age": "31",
                                    "Gender": "Male",
                                    "JobTitle": "Accountant",
                                    "Salary": "42000"
                                }
                            ]
                        },
                        "text/html": [
                            "<table>",
                            "<tr><th>EmployeeID</th><th>FirstName</th><th>LastName</th><th>Age</th><th>Gender</th><th>EmployeeID</th><th>JobTitle</th><th>Salary</th></tr>",
                            "<tr><td>1001</td><td>Jim</td><td>Halpert</td><td>30</td><td>Male</td><td>1001</td><td>Salesman</td><td>45000</td></tr>",
                            "<tr><td>1002</td><td>Pam</td><td>Beasley</td><td>30</td><td>Female</td><td>1002</td><td>Receptionist</td><td>36000</td></tr>",
                            "<tr><td>1003</td><td>Dwight</td><td>Schrute</td><td>29</td><td>Male</td><td>1003</td><td>Salesman</td><td>63000</td></tr>",
                            "<tr><td>1004</td><td>Angela</td><td>Martin</td><td>31</td><td>Female</td><td>1004</td><td>Accountant</td><td>47000</td></tr>",
                            "<tr><td>1005</td><td>Toby</td><td>Flenderson</td><td>32</td><td>Male</td><td>1005</td><td>HR</td><td>50000</td></tr>",
                            "<tr><td>1006</td><td>Michael</td><td>Scott</td><td>35</td><td>Male</td><td>1006</td><td>Regional Manager</td><td>65000</td></tr>",
                            "<tr><td>1007</td><td>Meredith</td><td>Palmer</td><td>32</td><td>Female</td><td>1007</td><td>Supplier Relations</td><td>41000</td></tr>",
                            "<tr><td>1008</td><td>Stanley</td><td>Hudson</td><td>38</td><td>Male</td><td>1008</td><td>Salesman</td><td>48000</td></tr>",
                            "<tr><td>1009</td><td>Kevin</td><td>Malone</td><td>31</td><td>Male</td><td>1009</td><td>Accountant</td><td>42000</td></tr>",
                            "</table>"
                        ]
                    }
                }
            ],
            "execution_count": 4
        },
        {
            "cell_type": "markdown",
            "source": [
                "## Outer Join"
            ],
            "metadata": {
                "language": "sql",
                "azdata_cell_guid": "14d9073f-a47d-45c5-837f-b23cfd34da78"
            },
            "attachments": {}
        },
        {
            "cell_type": "code",
            "source": [
                "SELECT * FROM [Projects].[dbo].[EmployeeDemographics]\r\n",
                "Full OUTER JOIN  [Projects].[dbo].[EmployeeSalary]\r\n",
                "    ON EmployeeDemographics.EmployeeID = EmployeeSalary.EmployeeID"
            ],
            "metadata": {
                "language": "sql",
                "azdata_cell_guid": "6eaafbc3-57d4-4205-b0df-bb8f0930db30"
            },
            "outputs": [
                {
                    "output_type": "display_data",
                    "data": {
                        "text/html": "(14 rows affected)"
                    },
                    "metadata": {}
                },
                {
                    "output_type": "display_data",
                    "data": {
                        "text/html": "Total execution time: 00:00:00.019"
                    },
                    "metadata": {}
                },
                {
                    "output_type": "execute_result",
                    "metadata": {},
                    "execution_count": 5,
                    "data": {
                        "application/vnd.dataresource+json": {
                            "schema": {
                                "fields": [
                                    {
                                        "name": "EmployeeID"
                                    },
                                    {
                                        "name": "FirstName"
                                    },
                                    {
                                        "name": "LastName"
                                    },
                                    {
                                        "name": "Age"
                                    },
                                    {
                                        "name": "Gender"
                                    },
                                    {
                                        "name": "EmployeeID"
                                    },
                                    {
                                        "name": "JobTitle"
                                    },
                                    {
                                        "name": "Salary"
                                    }
                                ]
                            },
                            "data": [
                                {
                                    "EmployeeID": "1001",
                                    "FirstName": "Jim",
                                    "LastName": "Halpert",
                                    "Age": "30",
                                    "Gender": "Male",
                                    "JobTitle": "Salesman",
                                    "Salary": "45000"
                                },
                                {
                                    "EmployeeID": "1002",
                                    "FirstName": "Pam",
                                    "LastName": "Beasley",
                                    "Age": "30",
                                    "Gender": "Female",
                                    "JobTitle": "Receptionist",
                                    "Salary": "36000"
                                },
                                {
                                    "EmployeeID": "1003",
                                    "FirstName": "Dwight",
                                    "LastName": "Schrute",
                                    "Age": "29",
                                    "Gender": "Male",
                                    "JobTitle": "Salesman",
                                    "Salary": "63000"
                                },
                                {
                                    "EmployeeID": "1004",
                                    "FirstName": "Angela",
                                    "LastName": "Martin",
                                    "Age": "31",
                                    "Gender": "Female",
                                    "JobTitle": "Accountant",
                                    "Salary": "47000"
                                },
                                {
                                    "EmployeeID": "1005",
                                    "FirstName": "Toby",
                                    "LastName": "Flenderson",
                                    "Age": "32",
                                    "Gender": "Male",
                                    "JobTitle": "HR",
                                    "Salary": "50000"
                                },
                                {
                                    "EmployeeID": "1006",
                                    "FirstName": "Michael",
                                    "LastName": "Scott",
                                    "Age": "35",
                                    "Gender": "Male",
                                    "JobTitle": "Regional Manager",
                                    "Salary": "65000"
                                },
                                {
                                    "EmployeeID": "1007",
                                    "FirstName": "Meredith",
                                    "LastName": "Palmer",
                                    "Age": "32",
                                    "Gender": "Female",
                                    "JobTitle": "Supplier Relations",
                                    "Salary": "41000"
                                },
                                {
                                    "EmployeeID": "1008",
                                    "FirstName": "Stanley",
                                    "LastName": "Hudson",
                                    "Age": "38",
                                    "Gender": "Male",
                                    "JobTitle": "Salesman",
                                    "Salary": "48000"
                                },
                                {
                                    "EmployeeID": "1009",
                                    "FirstName": "Kevin",
                                    "LastName": "Malone",
                                    "Age": "31",
                                    "Gender": "Male",
                                    "JobTitle": "Accountant",
                                    "Salary": "42000"
                                },
                                {
                                    "EmployeeID": "NULL",
                                    "FirstName": "Ryan",
                                    "LastName": "Howard",
                                    "Age": "26",
                                    "Gender": "Male",
                                    "JobTitle": "NULL",
                                    "Salary": "NULL"
                                },
                                {
                                    "EmployeeID": "NULL",
                                    "FirstName": "Holly",
                                    "LastName": "Flax",
                                    "Age": "NULL",
                                    "Gender": "Female",
                                    "JobTitle": "NULL",
                                    "Salary": "NULL"
                                },
                                {
                                    "EmployeeID": "NULL",
                                    "FirstName": "Darryl",
                                    "LastName": "Philbin",
                                    "Age": "NULL",
                                    "Gender": "Male",
                                    "JobTitle": "NULL",
                                    "Salary": "NULL"
                                },
                                {
                                    "EmployeeID": "1010",
                                    "FirstName": "NULL",
                                    "LastName": "NULL",
                                    "Age": "NULL",
                                    "Gender": "NULL",
                                    "JobTitle": "NULL",
                                    "Salary": "47000"
                                },
                                {
                                    "EmployeeID": "NULL",
                                    "FirstName": "NULL",
                                    "LastName": "NULL",
                                    "Age": "NULL",
                                    "Gender": "NULL",
                                    "JobTitle": "Salesman",
                                    "Salary": "43000"
                                }
                            ]
                        },
                        "text/html": [
                            "<table>",
                            "<tr><th>EmployeeID</th><th>FirstName</th><th>LastName</th><th>Age</th><th>Gender</th><th>EmployeeID</th><th>JobTitle</th><th>Salary</th></tr>",
                            "<tr><td>1001</td><td>Jim</td><td>Halpert</td><td>30</td><td>Male</td><td>1001</td><td>Salesman</td><td>45000</td></tr>",
                            "<tr><td>1002</td><td>Pam</td><td>Beasley</td><td>30</td><td>Female</td><td>1002</td><td>Receptionist</td><td>36000</td></tr>",
                            "<tr><td>1003</td><td>Dwight</td><td>Schrute</td><td>29</td><td>Male</td><td>1003</td><td>Salesman</td><td>63000</td></tr>",
                            "<tr><td>1004</td><td>Angela</td><td>Martin</td><td>31</td><td>Female</td><td>1004</td><td>Accountant</td><td>47000</td></tr>",
                            "<tr><td>1005</td><td>Toby</td><td>Flenderson</td><td>32</td><td>Male</td><td>1005</td><td>HR</td><td>50000</td></tr>",
                            "<tr><td>1006</td><td>Michael</td><td>Scott</td><td>35</td><td>Male</td><td>1006</td><td>Regional Manager</td><td>65000</td></tr>",
                            "<tr><td>1007</td><td>Meredith</td><td>Palmer</td><td>32</td><td>Female</td><td>1007</td><td>Supplier Relations</td><td>41000</td></tr>",
                            "<tr><td>1008</td><td>Stanley</td><td>Hudson</td><td>38</td><td>Male</td><td>1008</td><td>Salesman</td><td>48000</td></tr>",
                            "<tr><td>1009</td><td>Kevin</td><td>Malone</td><td>31</td><td>Male</td><td>1009</td><td>Accountant</td><td>42000</td></tr>",
                            "<tr><td>1011</td><td>Ryan</td><td>Howard</td><td>26</td><td>Male</td><td>NULL</td><td>NULL</td><td>NULL</td></tr>",
                            "<tr><td>NULL</td><td>Holly</td><td>Flax</td><td>NULL</td><td>Female</td><td>NULL</td><td>NULL</td><td>NULL</td></tr>",
                            "<tr><td>1013</td><td>Darryl</td><td>Philbin</td><td>NULL</td><td>Male</td><td>NULL</td><td>NULL</td><td>NULL</td></tr>",
                            "<tr><td>NULL</td><td>NULL</td><td>NULL</td><td>NULL</td><td>NULL</td><td>1010</td><td>NULL</td><td>47000</td></tr>",
                            "<tr><td>NULL</td><td>NULL</td><td>NULL</td><td>NULL</td><td>NULL</td><td>NULL</td><td>Salesman</td><td>43000</td></tr>",
                            "</table>"
                        ]
                    }
                }
            ],
            "execution_count": 5
        },
        {
            "cell_type": "markdown",
            "source": [
                "## Left Outer Join"
            ],
            "metadata": {
                "language": "sql",
                "azdata_cell_guid": "53d723a0-424d-4ac2-a488-c1d085e71aaa"
            },
            "attachments": {}
        },
        {
            "cell_type": "code",
            "source": [
                "SELECT * FROM [Projects].[dbo].[EmployeeDemographics]\r\n",
                "LEFT OUTER JOIN  [Projects].[dbo].[EmployeeSalary]\r\n",
                "    ON EmployeeDemographics.EmployeeID = EmployeeSalary.EmployeeID"
            ],
            "metadata": {
                "language": "sql",
                "azdata_cell_guid": "f6d417e0-bba3-4d29-a15f-afd66c70d49b"
            },
            "outputs": [
                {
                    "output_type": "display_data",
                    "data": {
                        "text/html": "(12 rows affected)"
                    },
                    "metadata": {}
                },
                {
                    "output_type": "display_data",
                    "data": {
                        "text/html": "Total execution time: 00:00:00.011"
                    },
                    "metadata": {}
                },
                {
                    "output_type": "execute_result",
                    "metadata": {},
                    "execution_count": 6,
                    "data": {
                        "application/vnd.dataresource+json": {
                            "schema": {
                                "fields": [
                                    {
                                        "name": "EmployeeID"
                                    },
                                    {
                                        "name": "FirstName"
                                    },
                                    {
                                        "name": "LastName"
                                    },
                                    {
                                        "name": "Age"
                                    },
                                    {
                                        "name": "Gender"
                                    },
                                    {
                                        "name": "EmployeeID"
                                    },
                                    {
                                        "name": "JobTitle"
                                    },
                                    {
                                        "name": "Salary"
                                    }
                                ]
                            },
                            "data": [
                                {
                                    "EmployeeID": "1001",
                                    "FirstName": "Jim",
                                    "LastName": "Halpert",
                                    "Age": "30",
                                    "Gender": "Male",
                                    "JobTitle": "Salesman",
                                    "Salary": "45000"
                                },
                                {
                                    "EmployeeID": "1002",
                                    "FirstName": "Pam",
                                    "LastName": "Beasley",
                                    "Age": "30",
                                    "Gender": "Female",
                                    "JobTitle": "Receptionist",
                                    "Salary": "36000"
                                },
                                {
                                    "EmployeeID": "1003",
                                    "FirstName": "Dwight",
                                    "LastName": "Schrute",
                                    "Age": "29",
                                    "Gender": "Male",
                                    "JobTitle": "Salesman",
                                    "Salary": "63000"
                                },
                                {
                                    "EmployeeID": "1004",
                                    "FirstName": "Angela",
                                    "LastName": "Martin",
                                    "Age": "31",
                                    "Gender": "Female",
                                    "JobTitle": "Accountant",
                                    "Salary": "47000"
                                },
                                {
                                    "EmployeeID": "1005",
                                    "FirstName": "Toby",
                                    "LastName": "Flenderson",
                                    "Age": "32",
                                    "Gender": "Male",
                                    "JobTitle": "HR",
                                    "Salary": "50000"
                                },
                                {
                                    "EmployeeID": "1006",
                                    "FirstName": "Michael",
                                    "LastName": "Scott",
                                    "Age": "35",
                                    "Gender": "Male",
                                    "JobTitle": "Regional Manager",
                                    "Salary": "65000"
                                },
                                {
                                    "EmployeeID": "1007",
                                    "FirstName": "Meredith",
                                    "LastName": "Palmer",
                                    "Age": "32",
                                    "Gender": "Female",
                                    "JobTitle": "Supplier Relations",
                                    "Salary": "41000"
                                },
                                {
                                    "EmployeeID": "1008",
                                    "FirstName": "Stanley",
                                    "LastName": "Hudson",
                                    "Age": "38",
                                    "Gender": "Male",
                                    "JobTitle": "Salesman",
                                    "Salary": "48000"
                                },
                                {
                                    "EmployeeID": "1009",
                                    "FirstName": "Kevin",
                                    "LastName": "Malone",
                                    "Age": "31",
                                    "Gender": "Male",
                                    "JobTitle": "Accountant",
                                    "Salary": "42000"
                                },
                                {
                                    "EmployeeID": "NULL",
                                    "FirstName": "Ryan",
                                    "LastName": "Howard",
                                    "Age": "26",
                                    "Gender": "Male",
                                    "JobTitle": "NULL",
                                    "Salary": "NULL"
                                },
                                {
                                    "EmployeeID": "NULL",
                                    "FirstName": "Holly",
                                    "LastName": "Flax",
                                    "Age": "NULL",
                                    "Gender": "Female",
                                    "JobTitle": "NULL",
                                    "Salary": "NULL"
                                },
                                {
                                    "EmployeeID": "NULL",
                                    "FirstName": "Darryl",
                                    "LastName": "Philbin",
                                    "Age": "NULL",
                                    "Gender": "Male",
                                    "JobTitle": "NULL",
                                    "Salary": "NULL"
                                }
                            ]
                        },
                        "text/html": [
                            "<table>",
                            "<tr><th>EmployeeID</th><th>FirstName</th><th>LastName</th><th>Age</th><th>Gender</th><th>EmployeeID</th><th>JobTitle</th><th>Salary</th></tr>",
                            "<tr><td>1001</td><td>Jim</td><td>Halpert</td><td>30</td><td>Male</td><td>1001</td><td>Salesman</td><td>45000</td></tr>",
                            "<tr><td>1002</td><td>Pam</td><td>Beasley</td><td>30</td><td>Female</td><td>1002</td><td>Receptionist</td><td>36000</td></tr>",
                            "<tr><td>1003</td><td>Dwight</td><td>Schrute</td><td>29</td><td>Male</td><td>1003</td><td>Salesman</td><td>63000</td></tr>",
                            "<tr><td>1004</td><td>Angela</td><td>Martin</td><td>31</td><td>Female</td><td>1004</td><td>Accountant</td><td>47000</td></tr>",
                            "<tr><td>1005</td><td>Toby</td><td>Flenderson</td><td>32</td><td>Male</td><td>1005</td><td>HR</td><td>50000</td></tr>",
                            "<tr><td>1006</td><td>Michael</td><td>Scott</td><td>35</td><td>Male</td><td>1006</td><td>Regional Manager</td><td>65000</td></tr>",
                            "<tr><td>1007</td><td>Meredith</td><td>Palmer</td><td>32</td><td>Female</td><td>1007</td><td>Supplier Relations</td><td>41000</td></tr>",
                            "<tr><td>1008</td><td>Stanley</td><td>Hudson</td><td>38</td><td>Male</td><td>1008</td><td>Salesman</td><td>48000</td></tr>",
                            "<tr><td>1009</td><td>Kevin</td><td>Malone</td><td>31</td><td>Male</td><td>1009</td><td>Accountant</td><td>42000</td></tr>",
                            "<tr><td>1011</td><td>Ryan</td><td>Howard</td><td>26</td><td>Male</td><td>NULL</td><td>NULL</td><td>NULL</td></tr>",
                            "<tr><td>NULL</td><td>Holly</td><td>Flax</td><td>NULL</td><td>Female</td><td>NULL</td><td>NULL</td><td>NULL</td></tr>",
                            "<tr><td>1013</td><td>Darryl</td><td>Philbin</td><td>NULL</td><td>Male</td><td>NULL</td><td>NULL</td><td>NULL</td></tr>",
                            "</table>"
                        ]
                    }
                }
            ],
            "execution_count": 6
        },
        {
            "cell_type": "markdown",
            "source": [
                "## Right Outer Join"
            ],
            "metadata": {
                "language": "sql",
                "azdata_cell_guid": "a947a9e1-a265-40f2-bc77-865cc17bc9af"
            },
            "attachments": {}
        },
        {
            "cell_type": "code",
            "source": [
                "SELECT * FROM [Projects].[dbo].[EmployeeDemographics]\r\n",
                "RIGHT OUTER JOIN  [Projects].[dbo].[EmployeeSalary]\r\n",
                "    ON EmployeeDemographics.EmployeeID = EmployeeSalary.EmployeeID"
            ],
            "metadata": {
                "language": "sql",
                "azdata_cell_guid": "efa94648-d829-408b-8386-837e5fbdb86e"
            },
            "outputs": [
                {
                    "output_type": "display_data",
                    "data": {
                        "text/html": "(11 rows affected)"
                    },
                    "metadata": {}
                },
                {
                    "output_type": "display_data",
                    "data": {
                        "text/html": "Total execution time: 00:00:00.012"
                    },
                    "metadata": {}
                },
                {
                    "output_type": "execute_result",
                    "metadata": {},
                    "execution_count": 7,
                    "data": {
                        "application/vnd.dataresource+json": {
                            "schema": {
                                "fields": [
                                    {
                                        "name": "EmployeeID"
                                    },
                                    {
                                        "name": "FirstName"
                                    },
                                    {
                                        "name": "LastName"
                                    },
                                    {
                                        "name": "Age"
                                    },
                                    {
                                        "name": "Gender"
                                    },
                                    {
                                        "name": "EmployeeID"
                                    },
                                    {
                                        "name": "JobTitle"
                                    },
                                    {
                                        "name": "Salary"
                                    }
                                ]
                            },
                            "data": [
                                {
                                    "EmployeeID": "1001",
                                    "FirstName": "Jim",
                                    "LastName": "Halpert",
                                    "Age": "30",
                                    "Gender": "Male",
                                    "JobTitle": "Salesman",
                                    "Salary": "45000"
                                },
                                {
                                    "EmployeeID": "1002",
                                    "FirstName": "Pam",
                                    "LastName": "Beasley",
                                    "Age": "30",
                                    "Gender": "Female",
                                    "JobTitle": "Receptionist",
                                    "Salary": "36000"
                                },
                                {
                                    "EmployeeID": "1003",
                                    "FirstName": "Dwight",
                                    "LastName": "Schrute",
                                    "Age": "29",
                                    "Gender": "Male",
                                    "JobTitle": "Salesman",
                                    "Salary": "63000"
                                },
                                {
                                    "EmployeeID": "1004",
                                    "FirstName": "Angela",
                                    "LastName": "Martin",
                                    "Age": "31",
                                    "Gender": "Female",
                                    "JobTitle": "Accountant",
                                    "Salary": "47000"
                                },
                                {
                                    "EmployeeID": "1005",
                                    "FirstName": "Toby",
                                    "LastName": "Flenderson",
                                    "Age": "32",
                                    "Gender": "Male",
                                    "JobTitle": "HR",
                                    "Salary": "50000"
                                },
                                {
                                    "EmployeeID": "1006",
                                    "FirstName": "Michael",
                                    "LastName": "Scott",
                                    "Age": "35",
                                    "Gender": "Male",
                                    "JobTitle": "Regional Manager",
                                    "Salary": "65000"
                                },
                                {
                                    "EmployeeID": "1007",
                                    "FirstName": "Meredith",
                                    "LastName": "Palmer",
                                    "Age": "32",
                                    "Gender": "Female",
                                    "JobTitle": "Supplier Relations",
                                    "Salary": "41000"
                                },
                                {
                                    "EmployeeID": "1008",
                                    "FirstName": "Stanley",
                                    "LastName": "Hudson",
                                    "Age": "38",
                                    "Gender": "Male",
                                    "JobTitle": "Salesman",
                                    "Salary": "48000"
                                },
                                {
                                    "EmployeeID": "1009",
                                    "FirstName": "Kevin",
                                    "LastName": "Malone",
                                    "Age": "31",
                                    "Gender": "Male",
                                    "JobTitle": "Accountant",
                                    "Salary": "42000"
                                },
                                {
                                    "EmployeeID": "1010",
                                    "FirstName": "NULL",
                                    "LastName": "NULL",
                                    "Age": "NULL",
                                    "Gender": "NULL",
                                    "JobTitle": "NULL",
                                    "Salary": "47000"
                                },
                                {
                                    "EmployeeID": "NULL",
                                    "FirstName": "NULL",
                                    "LastName": "NULL",
                                    "Age": "NULL",
                                    "Gender": "NULL",
                                    "JobTitle": "Salesman",
                                    "Salary": "43000"
                                }
                            ]
                        },
                        "text/html": [
                            "<table>",
                            "<tr><th>EmployeeID</th><th>FirstName</th><th>LastName</th><th>Age</th><th>Gender</th><th>EmployeeID</th><th>JobTitle</th><th>Salary</th></tr>",
                            "<tr><td>1001</td><td>Jim</td><td>Halpert</td><td>30</td><td>Male</td><td>1001</td><td>Salesman</td><td>45000</td></tr>",
                            "<tr><td>1002</td><td>Pam</td><td>Beasley</td><td>30</td><td>Female</td><td>1002</td><td>Receptionist</td><td>36000</td></tr>",
                            "<tr><td>1003</td><td>Dwight</td><td>Schrute</td><td>29</td><td>Male</td><td>1003</td><td>Salesman</td><td>63000</td></tr>",
                            "<tr><td>1004</td><td>Angela</td><td>Martin</td><td>31</td><td>Female</td><td>1004</td><td>Accountant</td><td>47000</td></tr>",
                            "<tr><td>1005</td><td>Toby</td><td>Flenderson</td><td>32</td><td>Male</td><td>1005</td><td>HR</td><td>50000</td></tr>",
                            "<tr><td>1006</td><td>Michael</td><td>Scott</td><td>35</td><td>Male</td><td>1006</td><td>Regional Manager</td><td>65000</td></tr>",
                            "<tr><td>1007</td><td>Meredith</td><td>Palmer</td><td>32</td><td>Female</td><td>1007</td><td>Supplier Relations</td><td>41000</td></tr>",
                            "<tr><td>1008</td><td>Stanley</td><td>Hudson</td><td>38</td><td>Male</td><td>1008</td><td>Salesman</td><td>48000</td></tr>",
                            "<tr><td>1009</td><td>Kevin</td><td>Malone</td><td>31</td><td>Male</td><td>1009</td><td>Accountant</td><td>42000</td></tr>",
                            "<tr><td>NULL</td><td>NULL</td><td>NULL</td><td>NULL</td><td>NULL</td><td>1010</td><td>NULL</td><td>47000</td></tr>",
                            "<tr><td>NULL</td><td>NULL</td><td>NULL</td><td>NULL</td><td>NULL</td><td>NULL</td><td>Salesman</td><td>43000</td></tr>",
                            "</table>"
                        ]
                    }
                }
            ],
            "execution_count": 7
        },
        {
            "cell_type": "code",
            "source": [
                "SELECT EmployeeDemographics.EmployeeID, FirstName, LastName, Jobtitle, Salary\r\n",
                "FROM [Projects].[dbo].[EmployeeDemographics]\r\n",
                "INNER JOIN  [Projects].[dbo].[EmployeeSalary]\r\n",
                "    ON EmployeeDemographics.EmployeeID = EmployeeSalary.EmployeeID"
            ],
            "metadata": {
                "language": "sql",
                "azdata_cell_guid": "506de240-bc0d-4c96-8d61-18e6500f5499"
            },
            "outputs": [
                {
                    "output_type": "display_data",
                    "data": {
                        "text/html": "(9 rows affected)"
                    },
                    "metadata": {}
                },
                {
                    "output_type": "display_data",
                    "data": {
                        "text/html": "Total execution time: 00:00:00.008"
                    },
                    "metadata": {}
                },
                {
                    "output_type": "execute_result",
                    "metadata": {},
                    "execution_count": 8,
                    "data": {
                        "application/vnd.dataresource+json": {
                            "schema": {
                                "fields": [
                                    {
                                        "name": "EmployeeID"
                                    },
                                    {
                                        "name": "FirstName"
                                    },
                                    {
                                        "name": "LastName"
                                    },
                                    {
                                        "name": "Jobtitle"
                                    },
                                    {
                                        "name": "Salary"
                                    }
                                ]
                            },
                            "data": [
                                {
                                    "EmployeeID": "1001",
                                    "FirstName": "Jim",
                                    "LastName": "Halpert",
                                    "Jobtitle": "Salesman",
                                    "Salary": "45000"
                                },
                                {
                                    "EmployeeID": "1002",
                                    "FirstName": "Pam",
                                    "LastName": "Beasley",
                                    "Jobtitle": "Receptionist",
                                    "Salary": "36000"
                                },
                                {
                                    "EmployeeID": "1003",
                                    "FirstName": "Dwight",
                                    "LastName": "Schrute",
                                    "Jobtitle": "Salesman",
                                    "Salary": "63000"
                                },
                                {
                                    "EmployeeID": "1004",
                                    "FirstName": "Angela",
                                    "LastName": "Martin",
                                    "Jobtitle": "Accountant",
                                    "Salary": "47000"
                                },
                                {
                                    "EmployeeID": "1005",
                                    "FirstName": "Toby",
                                    "LastName": "Flenderson",
                                    "Jobtitle": "HR",
                                    "Salary": "50000"
                                },
                                {
                                    "EmployeeID": "1006",
                                    "FirstName": "Michael",
                                    "LastName": "Scott",
                                    "Jobtitle": "Regional Manager",
                                    "Salary": "65000"
                                },
                                {
                                    "EmployeeID": "1007",
                                    "FirstName": "Meredith",
                                    "LastName": "Palmer",
                                    "Jobtitle": "Supplier Relations",
                                    "Salary": "41000"
                                },
                                {
                                    "EmployeeID": "1008",
                                    "FirstName": "Stanley",
                                    "LastName": "Hudson",
                                    "Jobtitle": "Salesman",
                                    "Salary": "48000"
                                },
                                {
                                    "EmployeeID": "1009",
                                    "FirstName": "Kevin",
                                    "LastName": "Malone",
                                    "Jobtitle": "Accountant",
                                    "Salary": "42000"
                                }
                            ]
                        },
                        "text/html": [
                            "<table>",
                            "<tr><th>EmployeeID</th><th>FirstName</th><th>LastName</th><th>Jobtitle</th><th>Salary</th></tr>",
                            "<tr><td>1001</td><td>Jim</td><td>Halpert</td><td>Salesman</td><td>45000</td></tr>",
                            "<tr><td>1002</td><td>Pam</td><td>Beasley</td><td>Receptionist</td><td>36000</td></tr>",
                            "<tr><td>1003</td><td>Dwight</td><td>Schrute</td><td>Salesman</td><td>63000</td></tr>",
                            "<tr><td>1004</td><td>Angela</td><td>Martin</td><td>Accountant</td><td>47000</td></tr>",
                            "<tr><td>1005</td><td>Toby</td><td>Flenderson</td><td>HR</td><td>50000</td></tr>",
                            "<tr><td>1006</td><td>Michael</td><td>Scott</td><td>Regional Manager</td><td>65000</td></tr>",
                            "<tr><td>1007</td><td>Meredith</td><td>Palmer</td><td>Supplier Relations</td><td>41000</td></tr>",
                            "<tr><td>1008</td><td>Stanley</td><td>Hudson</td><td>Salesman</td><td>48000</td></tr>",
                            "<tr><td>1009</td><td>Kevin</td><td>Malone</td><td>Accountant</td><td>42000</td></tr>",
                            "</table>"
                        ]
                    }
                }
            ],
            "execution_count": 8
        },
        {
            "cell_type": "code",
            "source": [
                "SELECT EmployeeDemographics.EmployeeID, FirstName, LastName, Jobtitle, Salary\r\n",
                "FROM [Projects].[dbo].[EmployeeDemographics]\r\n",
                "RIGHT OUTER JOIN  [Projects].[dbo].[EmployeeSalary]\r\n",
                "    ON EmployeeDemographics.EmployeeID = EmployeeSalary.EmployeeID\r\n",
                "\r\n",
                "\r\n",
                "SELECT EmployeeSalary.EmployeeID, FirstName, LastName, Jobtitle, Salary\r\n",
                "FROM [Projects].[dbo].[EmployeeDemographics]\r\n",
                "RIGHT OUTER JOIN  [Projects].[dbo].[EmployeeSalary]\r\n",
                "    ON EmployeeDemographics.EmployeeID = EmployeeSalary.EmployeeID"
            ],
            "metadata": {
                "language": "sql",
                "azdata_cell_guid": "8bc46abf-725e-4c32-bc4f-f9e8bf6cf4a5"
            },
            "outputs": [
                {
                    "output_type": "display_data",
                    "data": {
                        "text/html": "(11 rows affected)"
                    },
                    "metadata": {}
                },
                {
                    "output_type": "display_data",
                    "data": {
                        "text/html": "(11 rows affected)"
                    },
                    "metadata": {}
                },
                {
                    "output_type": "display_data",
                    "data": {
                        "text/html": "Total execution time: 00:00:00.020"
                    },
                    "metadata": {}
                },
                {
                    "output_type": "execute_result",
                    "metadata": {},
                    "execution_count": 9,
                    "data": {
                        "application/vnd.dataresource+json": {
                            "schema": {
                                "fields": [
                                    {
                                        "name": "EmployeeID"
                                    },
                                    {
                                        "name": "FirstName"
                                    },
                                    {
                                        "name": "LastName"
                                    },
                                    {
                                        "name": "Jobtitle"
                                    },
                                    {
                                        "name": "Salary"
                                    }
                                ]
                            },
                            "data": [
                                {
                                    "EmployeeID": "1001",
                                    "FirstName": "Jim",
                                    "LastName": "Halpert",
                                    "Jobtitle": "Salesman",
                                    "Salary": "45000"
                                },
                                {
                                    "EmployeeID": "1002",
                                    "FirstName": "Pam",
                                    "LastName": "Beasley",
                                    "Jobtitle": "Receptionist",
                                    "Salary": "36000"
                                },
                                {
                                    "EmployeeID": "1003",
                                    "FirstName": "Dwight",
                                    "LastName": "Schrute",
                                    "Jobtitle": "Salesman",
                                    "Salary": "63000"
                                },
                                {
                                    "EmployeeID": "1004",
                                    "FirstName": "Angela",
                                    "LastName": "Martin",
                                    "Jobtitle": "Accountant",
                                    "Salary": "47000"
                                },
                                {
                                    "EmployeeID": "1005",
                                    "FirstName": "Toby",
                                    "LastName": "Flenderson",
                                    "Jobtitle": "HR",
                                    "Salary": "50000"
                                },
                                {
                                    "EmployeeID": "1006",
                                    "FirstName": "Michael",
                                    "LastName": "Scott",
                                    "Jobtitle": "Regional Manager",
                                    "Salary": "65000"
                                },
                                {
                                    "EmployeeID": "1007",
                                    "FirstName": "Meredith",
                                    "LastName": "Palmer",
                                    "Jobtitle": "Supplier Relations",
                                    "Salary": "41000"
                                },
                                {
                                    "EmployeeID": "1008",
                                    "FirstName": "Stanley",
                                    "LastName": "Hudson",
                                    "Jobtitle": "Salesman",
                                    "Salary": "48000"
                                },
                                {
                                    "EmployeeID": "1009",
                                    "FirstName": "Kevin",
                                    "LastName": "Malone",
                                    "Jobtitle": "Accountant",
                                    "Salary": "42000"
                                },
                                {
                                    "EmployeeID": "NULL",
                                    "FirstName": "NULL",
                                    "LastName": "NULL",
                                    "Jobtitle": "NULL",
                                    "Salary": "47000"
                                },
                                {
                                    "EmployeeID": "NULL",
                                    "FirstName": "NULL",
                                    "LastName": "NULL",
                                    "Jobtitle": "Salesman",
                                    "Salary": "43000"
                                }
                            ]
                        },
                        "text/html": [
                            "<table>",
                            "<tr><th>EmployeeID</th><th>FirstName</th><th>LastName</th><th>Jobtitle</th><th>Salary</th></tr>",
                            "<tr><td>1001</td><td>Jim</td><td>Halpert</td><td>Salesman</td><td>45000</td></tr>",
                            "<tr><td>1002</td><td>Pam</td><td>Beasley</td><td>Receptionist</td><td>36000</td></tr>",
                            "<tr><td>1003</td><td>Dwight</td><td>Schrute</td><td>Salesman</td><td>63000</td></tr>",
                            "<tr><td>1004</td><td>Angela</td><td>Martin</td><td>Accountant</td><td>47000</td></tr>",
                            "<tr><td>1005</td><td>Toby</td><td>Flenderson</td><td>HR</td><td>50000</td></tr>",
                            "<tr><td>1006</td><td>Michael</td><td>Scott</td><td>Regional Manager</td><td>65000</td></tr>",
                            "<tr><td>1007</td><td>Meredith</td><td>Palmer</td><td>Supplier Relations</td><td>41000</td></tr>",
                            "<tr><td>1008</td><td>Stanley</td><td>Hudson</td><td>Salesman</td><td>48000</td></tr>",
                            "<tr><td>1009</td><td>Kevin</td><td>Malone</td><td>Accountant</td><td>42000</td></tr>",
                            "<tr><td>NULL</td><td>NULL</td><td>NULL</td><td>NULL</td><td>47000</td></tr>",
                            "<tr><td>NULL</td><td>NULL</td><td>NULL</td><td>Salesman</td><td>43000</td></tr>",
                            "</table>"
                        ]
                    }
                },
                {
                    "output_type": "execute_result",
                    "metadata": {},
                    "execution_count": 9,
                    "data": {
                        "application/vnd.dataresource+json": {
                            "schema": {
                                "fields": [
                                    {
                                        "name": "EmployeeID"
                                    },
                                    {
                                        "name": "FirstName"
                                    },
                                    {
                                        "name": "LastName"
                                    },
                                    {
                                        "name": "Jobtitle"
                                    },
                                    {
                                        "name": "Salary"
                                    }
                                ]
                            },
                            "data": [
                                {
                                    "EmployeeID": "1001",
                                    "FirstName": "Jim",
                                    "LastName": "Halpert",
                                    "Jobtitle": "Salesman",
                                    "Salary": "45000"
                                },
                                {
                                    "EmployeeID": "1002",
                                    "FirstName": "Pam",
                                    "LastName": "Beasley",
                                    "Jobtitle": "Receptionist",
                                    "Salary": "36000"
                                },
                                {
                                    "EmployeeID": "1003",
                                    "FirstName": "Dwight",
                                    "LastName": "Schrute",
                                    "Jobtitle": "Salesman",
                                    "Salary": "63000"
                                },
                                {
                                    "EmployeeID": "1004",
                                    "FirstName": "Angela",
                                    "LastName": "Martin",
                                    "Jobtitle": "Accountant",
                                    "Salary": "47000"
                                },
                                {
                                    "EmployeeID": "1005",
                                    "FirstName": "Toby",
                                    "LastName": "Flenderson",
                                    "Jobtitle": "HR",
                                    "Salary": "50000"
                                },
                                {
                                    "EmployeeID": "1006",
                                    "FirstName": "Michael",
                                    "LastName": "Scott",
                                    "Jobtitle": "Regional Manager",
                                    "Salary": "65000"
                                },
                                {
                                    "EmployeeID": "1007",
                                    "FirstName": "Meredith",
                                    "LastName": "Palmer",
                                    "Jobtitle": "Supplier Relations",
                                    "Salary": "41000"
                                },
                                {
                                    "EmployeeID": "1008",
                                    "FirstName": "Stanley",
                                    "LastName": "Hudson",
                                    "Jobtitle": "Salesman",
                                    "Salary": "48000"
                                },
                                {
                                    "EmployeeID": "1009",
                                    "FirstName": "Kevin",
                                    "LastName": "Malone",
                                    "Jobtitle": "Accountant",
                                    "Salary": "42000"
                                },
                                {
                                    "EmployeeID": "1010",
                                    "FirstName": "NULL",
                                    "LastName": "NULL",
                                    "Jobtitle": "NULL",
                                    "Salary": "47000"
                                },
                                {
                                    "EmployeeID": "NULL",
                                    "FirstName": "NULL",
                                    "LastName": "NULL",
                                    "Jobtitle": "Salesman",
                                    "Salary": "43000"
                                }
                            ]
                        },
                        "text/html": [
                            "<table>",
                            "<tr><th>EmployeeID</th><th>FirstName</th><th>LastName</th><th>Jobtitle</th><th>Salary</th></tr>",
                            "<tr><td>1001</td><td>Jim</td><td>Halpert</td><td>Salesman</td><td>45000</td></tr>",
                            "<tr><td>1002</td><td>Pam</td><td>Beasley</td><td>Receptionist</td><td>36000</td></tr>",
                            "<tr><td>1003</td><td>Dwight</td><td>Schrute</td><td>Salesman</td><td>63000</td></tr>",
                            "<tr><td>1004</td><td>Angela</td><td>Martin</td><td>Accountant</td><td>47000</td></tr>",
                            "<tr><td>1005</td><td>Toby</td><td>Flenderson</td><td>HR</td><td>50000</td></tr>",
                            "<tr><td>1006</td><td>Michael</td><td>Scott</td><td>Regional Manager</td><td>65000</td></tr>",
                            "<tr><td>1007</td><td>Meredith</td><td>Palmer</td><td>Supplier Relations</td><td>41000</td></tr>",
                            "<tr><td>1008</td><td>Stanley</td><td>Hudson</td><td>Salesman</td><td>48000</td></tr>",
                            "<tr><td>1009</td><td>Kevin</td><td>Malone</td><td>Accountant</td><td>42000</td></tr>",
                            "<tr><td>1010</td><td>NULL</td><td>NULL</td><td>NULL</td><td>47000</td></tr>",
                            "<tr><td>NULL</td><td>NULL</td><td>NULL</td><td>Salesman</td><td>43000</td></tr>",
                            "</table>"
                        ]
                    }
                }
            ],
            "execution_count": 9
        },
        {
            "cell_type": "code",
            "source": [
                "SELECT EmployeeDemographics.EmployeeID, FirstName, LastName, Jobtitle, Salary\r\n",
                "FROM [Projects].[dbo].[EmployeeDemographics]\r\n",
                "LEFT OUTER JOIN  [Projects].[dbo].[EmployeeSalary]\r\n",
                "    ON EmployeeDemographics.EmployeeID = EmployeeSalary.EmployeeID\r\n",
                "\r\n",
                "\r\n",
                "SELECT EmployeeSalary.EmployeeID, FirstName, LastName, Jobtitle, Salary\r\n",
                "FROM [Projects].[dbo].[EmployeeDemographics]\r\n",
                "LEFT OUTER JOIN  [Projects].[dbo].[EmployeeSalary]\r\n",
                "    ON EmployeeDemographics.EmployeeID = EmployeeSalary.EmployeeID"
            ],
            "metadata": {
                "language": "sql",
                "azdata_cell_guid": "10736a22-e5f3-406b-8d0c-e2e08d7c2040"
            },
            "outputs": [
                {
                    "output_type": "display_data",
                    "data": {
                        "text/html": "(12 rows affected)"
                    },
                    "metadata": {}
                },
                {
                    "output_type": "display_data",
                    "data": {
                        "text/html": "(12 rows affected)"
                    },
                    "metadata": {}
                },
                {
                    "output_type": "display_data",
                    "data": {
                        "text/html": "Total execution time: 00:00:00.028"
                    },
                    "metadata": {}
                },
                {
                    "output_type": "execute_result",
                    "metadata": {},
                    "execution_count": 10,
                    "data": {
                        "application/vnd.dataresource+json": {
                            "schema": {
                                "fields": [
                                    {
                                        "name": "EmployeeID"
                                    },
                                    {
                                        "name": "FirstName"
                                    },
                                    {
                                        "name": "LastName"
                                    },
                                    {
                                        "name": "Jobtitle"
                                    },
                                    {
                                        "name": "Salary"
                                    }
                                ]
                            },
                            "data": [
                                {
                                    "EmployeeID": "1001",
                                    "FirstName": "Jim",
                                    "LastName": "Halpert",
                                    "Jobtitle": "Salesman",
                                    "Salary": "45000"
                                },
                                {
                                    "EmployeeID": "1002",
                                    "FirstName": "Pam",
                                    "LastName": "Beasley",
                                    "Jobtitle": "Receptionist",
                                    "Salary": "36000"
                                },
                                {
                                    "EmployeeID": "1003",
                                    "FirstName": "Dwight",
                                    "LastName": "Schrute",
                                    "Jobtitle": "Salesman",
                                    "Salary": "63000"
                                },
                                {
                                    "EmployeeID": "1004",
                                    "FirstName": "Angela",
                                    "LastName": "Martin",
                                    "Jobtitle": "Accountant",
                                    "Salary": "47000"
                                },
                                {
                                    "EmployeeID": "1005",
                                    "FirstName": "Toby",
                                    "LastName": "Flenderson",
                                    "Jobtitle": "HR",
                                    "Salary": "50000"
                                },
                                {
                                    "EmployeeID": "1006",
                                    "FirstName": "Michael",
                                    "LastName": "Scott",
                                    "Jobtitle": "Regional Manager",
                                    "Salary": "65000"
                                },
                                {
                                    "EmployeeID": "1007",
                                    "FirstName": "Meredith",
                                    "LastName": "Palmer",
                                    "Jobtitle": "Supplier Relations",
                                    "Salary": "41000"
                                },
                                {
                                    "EmployeeID": "1008",
                                    "FirstName": "Stanley",
                                    "LastName": "Hudson",
                                    "Jobtitle": "Salesman",
                                    "Salary": "48000"
                                },
                                {
                                    "EmployeeID": "1009",
                                    "FirstName": "Kevin",
                                    "LastName": "Malone",
                                    "Jobtitle": "Accountant",
                                    "Salary": "42000"
                                },
                                {
                                    "EmployeeID": "1011",
                                    "FirstName": "Ryan",
                                    "LastName": "Howard",
                                    "Jobtitle": "NULL",
                                    "Salary": "NULL"
                                },
                                {
                                    "EmployeeID": "NULL",
                                    "FirstName": "Holly",
                                    "LastName": "Flax",
                                    "Jobtitle": "NULL",
                                    "Salary": "NULL"
                                },
                                {
                                    "EmployeeID": "1013",
                                    "FirstName": "Darryl",
                                    "LastName": "Philbin",
                                    "Jobtitle": "NULL",
                                    "Salary": "NULL"
                                }
                            ]
                        },
                        "text/html": [
                            "<table>",
                            "<tr><th>EmployeeID</th><th>FirstName</th><th>LastName</th><th>Jobtitle</th><th>Salary</th></tr>",
                            "<tr><td>1001</td><td>Jim</td><td>Halpert</td><td>Salesman</td><td>45000</td></tr>",
                            "<tr><td>1002</td><td>Pam</td><td>Beasley</td><td>Receptionist</td><td>36000</td></tr>",
                            "<tr><td>1003</td><td>Dwight</td><td>Schrute</td><td>Salesman</td><td>63000</td></tr>",
                            "<tr><td>1004</td><td>Angela</td><td>Martin</td><td>Accountant</td><td>47000</td></tr>",
                            "<tr><td>1005</td><td>Toby</td><td>Flenderson</td><td>HR</td><td>50000</td></tr>",
                            "<tr><td>1006</td><td>Michael</td><td>Scott</td><td>Regional Manager</td><td>65000</td></tr>",
                            "<tr><td>1007</td><td>Meredith</td><td>Palmer</td><td>Supplier Relations</td><td>41000</td></tr>",
                            "<tr><td>1008</td><td>Stanley</td><td>Hudson</td><td>Salesman</td><td>48000</td></tr>",
                            "<tr><td>1009</td><td>Kevin</td><td>Malone</td><td>Accountant</td><td>42000</td></tr>",
                            "<tr><td>1011</td><td>Ryan</td><td>Howard</td><td>NULL</td><td>NULL</td></tr>",
                            "<tr><td>NULL</td><td>Holly</td><td>Flax</td><td>NULL</td><td>NULL</td></tr>",
                            "<tr><td>1013</td><td>Darryl</td><td>Philbin</td><td>NULL</td><td>NULL</td></tr>",
                            "</table>"
                        ]
                    }
                },
                {
                    "output_type": "execute_result",
                    "metadata": {},
                    "execution_count": 10,
                    "data": {
                        "application/vnd.dataresource+json": {
                            "schema": {
                                "fields": [
                                    {
                                        "name": "EmployeeID"
                                    },
                                    {
                                        "name": "FirstName"
                                    },
                                    {
                                        "name": "LastName"
                                    },
                                    {
                                        "name": "Jobtitle"
                                    },
                                    {
                                        "name": "Salary"
                                    }
                                ]
                            },
                            "data": [
                                {
                                    "EmployeeID": "1001",
                                    "FirstName": "Jim",
                                    "LastName": "Halpert",
                                    "Jobtitle": "Salesman",
                                    "Salary": "45000"
                                },
                                {
                                    "EmployeeID": "1002",
                                    "FirstName": "Pam",
                                    "LastName": "Beasley",
                                    "Jobtitle": "Receptionist",
                                    "Salary": "36000"
                                },
                                {
                                    "EmployeeID": "1003",
                                    "FirstName": "Dwight",
                                    "LastName": "Schrute",
                                    "Jobtitle": "Salesman",
                                    "Salary": "63000"
                                },
                                {
                                    "EmployeeID": "1004",
                                    "FirstName": "Angela",
                                    "LastName": "Martin",
                                    "Jobtitle": "Accountant",
                                    "Salary": "47000"
                                },
                                {
                                    "EmployeeID": "1005",
                                    "FirstName": "Toby",
                                    "LastName": "Flenderson",
                                    "Jobtitle": "HR",
                                    "Salary": "50000"
                                },
                                {
                                    "EmployeeID": "1006",
                                    "FirstName": "Michael",
                                    "LastName": "Scott",
                                    "Jobtitle": "Regional Manager",
                                    "Salary": "65000"
                                },
                                {
                                    "EmployeeID": "1007",
                                    "FirstName": "Meredith",
                                    "LastName": "Palmer",
                                    "Jobtitle": "Supplier Relations",
                                    "Salary": "41000"
                                },
                                {
                                    "EmployeeID": "1008",
                                    "FirstName": "Stanley",
                                    "LastName": "Hudson",
                                    "Jobtitle": "Salesman",
                                    "Salary": "48000"
                                },
                                {
                                    "EmployeeID": "1009",
                                    "FirstName": "Kevin",
                                    "LastName": "Malone",
                                    "Jobtitle": "Accountant",
                                    "Salary": "42000"
                                },
                                {
                                    "EmployeeID": "NULL",
                                    "FirstName": "Ryan",
                                    "LastName": "Howard",
                                    "Jobtitle": "NULL",
                                    "Salary": "NULL"
                                },
                                {
                                    "EmployeeID": "NULL",
                                    "FirstName": "Holly",
                                    "LastName": "Flax",
                                    "Jobtitle": "NULL",
                                    "Salary": "NULL"
                                },
                                {
                                    "EmployeeID": "NULL",
                                    "FirstName": "Darryl",
                                    "LastName": "Philbin",
                                    "Jobtitle": "NULL",
                                    "Salary": "NULL"
                                }
                            ]
                        },
                        "text/html": [
                            "<table>",
                            "<tr><th>EmployeeID</th><th>FirstName</th><th>LastName</th><th>Jobtitle</th><th>Salary</th></tr>",
                            "<tr><td>1001</td><td>Jim</td><td>Halpert</td><td>Salesman</td><td>45000</td></tr>",
                            "<tr><td>1002</td><td>Pam</td><td>Beasley</td><td>Receptionist</td><td>36000</td></tr>",
                            "<tr><td>1003</td><td>Dwight</td><td>Schrute</td><td>Salesman</td><td>63000</td></tr>",
                            "<tr><td>1004</td><td>Angela</td><td>Martin</td><td>Accountant</td><td>47000</td></tr>",
                            "<tr><td>1005</td><td>Toby</td><td>Flenderson</td><td>HR</td><td>50000</td></tr>",
                            "<tr><td>1006</td><td>Michael</td><td>Scott</td><td>Regional Manager</td><td>65000</td></tr>",
                            "<tr><td>1007</td><td>Meredith</td><td>Palmer</td><td>Supplier Relations</td><td>41000</td></tr>",
                            "<tr><td>1008</td><td>Stanley</td><td>Hudson</td><td>Salesman</td><td>48000</td></tr>",
                            "<tr><td>1009</td><td>Kevin</td><td>Malone</td><td>Accountant</td><td>42000</td></tr>",
                            "<tr><td>NULL</td><td>Ryan</td><td>Howard</td><td>NULL</td><td>NULL</td></tr>",
                            "<tr><td>NULL</td><td>Holly</td><td>Flax</td><td>NULL</td><td>NULL</td></tr>",
                            "<tr><td>NULL</td><td>Darryl</td><td>Philbin</td><td>NULL</td><td>NULL</td></tr>",
                            "</table>"
                        ]
                    }
                }
            ],
            "execution_count": 10
        },
        {
            "cell_type": "code",
            "source": [
                "SELECT EmployeeDemographics.EmployeeID, FirstName, LastName, Salary\r\n",
                "FROM [Projects].[dbo].[EmployeeDemographics]\r\n",
                "INNER JOIN  [Projects].[dbo].[EmployeeSalary]\r\n",
                "    ON EmployeeDemographics.EmployeeID = EmployeeSalary.EmployeeID\r\n",
                "WHERE FirstName <> 'Michael'\r\n",
                "ORDER BY Salary DESC\r\n",
                ""
            ],
            "metadata": {
                "language": "sql",
                "azdata_cell_guid": "c0aad7ce-a1b0-40e6-a67d-37aa2f862aea"
            },
            "outputs": [
                {
                    "output_type": "display_data",
                    "data": {
                        "text/html": "(8 rows affected)"
                    },
                    "metadata": {}
                },
                {
                    "output_type": "display_data",
                    "data": {
                        "text/html": "Total execution time: 00:00:00.100"
                    },
                    "metadata": {}
                },
                {
                    "output_type": "execute_result",
                    "metadata": {},
                    "execution_count": 11,
                    "data": {
                        "application/vnd.dataresource+json": {
                            "schema": {
                                "fields": [
                                    {
                                        "name": "EmployeeID"
                                    },
                                    {
                                        "name": "FirstName"
                                    },
                                    {
                                        "name": "LastName"
                                    },
                                    {
                                        "name": "Salary"
                                    }
                                ]
                            },
                            "data": [
                                {
                                    "EmployeeID": "1003",
                                    "FirstName": "Dwight",
                                    "LastName": "Schrute",
                                    "Salary": "63000"
                                },
                                {
                                    "EmployeeID": "1005",
                                    "FirstName": "Toby",
                                    "LastName": "Flenderson",
                                    "Salary": "50000"
                                },
                                {
                                    "EmployeeID": "1008",
                                    "FirstName": "Stanley",
                                    "LastName": "Hudson",
                                    "Salary": "48000"
                                },
                                {
                                    "EmployeeID": "1004",
                                    "FirstName": "Angela",
                                    "LastName": "Martin",
                                    "Salary": "47000"
                                },
                                {
                                    "EmployeeID": "1001",
                                    "FirstName": "Jim",
                                    "LastName": "Halpert",
                                    "Salary": "45000"
                                },
                                {
                                    "EmployeeID": "1009",
                                    "FirstName": "Kevin",
                                    "LastName": "Malone",
                                    "Salary": "42000"
                                },
                                {
                                    "EmployeeID": "1007",
                                    "FirstName": "Meredith",
                                    "LastName": "Palmer",
                                    "Salary": "41000"
                                },
                                {
                                    "EmployeeID": "1002",
                                    "FirstName": "Pam",
                                    "LastName": "Beasley",
                                    "Salary": "36000"
                                }
                            ]
                        },
                        "text/html": [
                            "<table>",
                            "<tr><th>EmployeeID</th><th>FirstName</th><th>LastName</th><th>Salary</th></tr>",
                            "<tr><td>1003</td><td>Dwight</td><td>Schrute</td><td>63000</td></tr>",
                            "<tr><td>1005</td><td>Toby</td><td>Flenderson</td><td>50000</td></tr>",
                            "<tr><td>1008</td><td>Stanley</td><td>Hudson</td><td>48000</td></tr>",
                            "<tr><td>1004</td><td>Angela</td><td>Martin</td><td>47000</td></tr>",
                            "<tr><td>1001</td><td>Jim</td><td>Halpert</td><td>45000</td></tr>",
                            "<tr><td>1009</td><td>Kevin</td><td>Malone</td><td>42000</td></tr>",
                            "<tr><td>1007</td><td>Meredith</td><td>Palmer</td><td>41000</td></tr>",
                            "<tr><td>1002</td><td>Pam</td><td>Beasley</td><td>36000</td></tr>",
                            "</table>"
                        ]
                    }
                }
            ],
            "execution_count": 11
        },
        {
            "cell_type": "code",
            "source": [
                "SELECT Jobtitle, AVG(Salary) as AverageSalary\r\n",
                "FROM [Projects].[dbo].[EmployeeDemographics]\r\n",
                "INNER JOIN  [Projects].[dbo].[EmployeeSalary]\r\n",
                "    ON EmployeeDemographics.EmployeeID = EmployeeSalary.EmployeeID\r\n",
                "WHERE JobTitle = 'Salesman'\r\n",
                "GROUP BY Jobtitle"
            ],
            "metadata": {
                "language": "sql",
                "azdata_cell_guid": "f80c808c-1a68-40f5-a86c-0c10c2b6aecd"
            },
            "outputs": [
                {
                    "output_type": "display_data",
                    "data": {
                        "text/html": "(1 row affected)"
                    },
                    "metadata": {}
                },
                {
                    "output_type": "display_data",
                    "data": {
                        "text/html": "Total execution time: 00:00:00.015"
                    },
                    "metadata": {}
                },
                {
                    "output_type": "execute_result",
                    "metadata": {},
                    "execution_count": 12,
                    "data": {
                        "application/vnd.dataresource+json": {
                            "schema": {
                                "fields": [
                                    {
                                        "name": "Jobtitle"
                                    },
                                    {
                                        "name": "AverageSalary"
                                    }
                                ]
                            },
                            "data": [
                                {
                                    "Jobtitle": "Salesman",
                                    "AverageSalary": "52000"
                                }
                            ]
                        },
                        "text/html": [
                            "<table>",
                            "<tr><th>Jobtitle</th><th>AverageSalary</th></tr>",
                            "<tr><td>Salesman</td><td>52000</td></tr>",
                            "</table>"
                        ]
                    }
                }
            ],
            "execution_count": 12
        },
        {
            "cell_type": "markdown",
            "source": [
                "# **UNIONS**"
            ],
            "metadata": {
                "language": "sql",
                "azdata_cell_guid": "3e507017-c098-40ab-ba80-8d7e7e474644"
            },
            "attachments": {}
        },
        {
            "cell_type": "markdown",
            "source": [
                "## Comparison with Inner Join"
            ],
            "metadata": {
                "language": "sql",
                "azdata_cell_guid": "7236920e-31ea-4878-820d-39dc4f2d3db0"
            },
            "attachments": {}
        },
        {
            "cell_type": "code",
            "source": [
                "SELECT *\r\n",
                "FROM [Projects].[dbo].[EmployeeDemographics]\r\n",
                "Full OUTER JOIN  [Projects].[dbo].[WareHouseEmployeeDemographics]\r\n",
                "    ON EmployeeDemographics.EmployeeID = WareHouseEmployeeDemographics.EmployeeID\r\n",
                "\r\n",
                "\r\n",
                "SELECT *\r\n",
                "FROM [Projects].[dbo].[EmployeeDemographics]\r\n",
                "UNION\r\n",
                "SELECT *\r\n",
                "FROM [Projects].[dbo].[WareHouseEmployeeDemographics]\r\n",
                "\r\n",
                "\r\n",
                "SELECT *\r\n",
                "FROM [Projects].[dbo].[EmployeeDemographics]\r\n",
                "UNION ALL\r\n",
                "SELECT *\r\n",
                "FROM [Projects].[dbo].[WareHouseEmployeeDemographics]\r\n",
                "ORDER BY EmployeeID"
            ],
            "metadata": {
                "language": "sql",
                "azdata_cell_guid": "f1e2170d-0a52-4bb4-8466-2f01d06a253b",
                "tags": []
            },
            "outputs": [
                {
                    "output_type": "display_data",
                    "data": {
                        "text/html": "(15 rows affected)"
                    },
                    "metadata": {}
                },
                {
                    "output_type": "display_data",
                    "data": {
                        "text/html": "(15 rows affected)"
                    },
                    "metadata": {}
                },
                {
                    "output_type": "display_data",
                    "data": {
                        "text/html": "(16 rows affected)"
                    },
                    "metadata": {}
                },
                {
                    "output_type": "display_data",
                    "data": {
                        "text/html": "Total execution time: 00:00:00.052"
                    },
                    "metadata": {}
                },
                {
                    "output_type": "execute_result",
                    "metadata": {},
                    "execution_count": 13,
                    "data": {
                        "application/vnd.dataresource+json": {
                            "schema": {
                                "fields": [
                                    {
                                        "name": "EmployeeID"
                                    },
                                    {
                                        "name": "FirstName"
                                    },
                                    {
                                        "name": "LastName"
                                    },
                                    {
                                        "name": "Age"
                                    },
                                    {
                                        "name": "Gender"
                                    },
                                    {
                                        "name": "EmployeeID"
                                    },
                                    {
                                        "name": "FirstName"
                                    },
                                    {
                                        "name": "LastName"
                                    },
                                    {
                                        "name": "Age"
                                    },
                                    {
                                        "name": "Gender"
                                    }
                                ]
                            },
                            "data": [
                                {
                                    "EmployeeID": "NULL",
                                    "FirstName": "NULL",
                                    "LastName": "NULL",
                                    "Age": "NULL",
                                    "Gender": "NULL"
                                },
                                {
                                    "EmployeeID": "NULL",
                                    "FirstName": "NULL",
                                    "LastName": "NULL",
                                    "Age": "NULL",
                                    "Gender": "NULL"
                                },
                                {
                                    "EmployeeID": "NULL",
                                    "FirstName": "NULL",
                                    "LastName": "NULL",
                                    "Age": "NULL",
                                    "Gender": "NULL"
                                },
                                {
                                    "EmployeeID": "NULL",
                                    "FirstName": "NULL",
                                    "LastName": "NULL",
                                    "Age": "NULL",
                                    "Gender": "NULL"
                                },
                                {
                                    "EmployeeID": "NULL",
                                    "FirstName": "NULL",
                                    "LastName": "NULL",
                                    "Age": "NULL",
                                    "Gender": "NULL"
                                },
                                {
                                    "EmployeeID": "NULL",
                                    "FirstName": "NULL",
                                    "LastName": "NULL",
                                    "Age": "NULL",
                                    "Gender": "NULL"
                                },
                                {
                                    "EmployeeID": "NULL",
                                    "FirstName": "NULL",
                                    "LastName": "NULL",
                                    "Age": "NULL",
                                    "Gender": "NULL"
                                },
                                {
                                    "EmployeeID": "NULL",
                                    "FirstName": "NULL",
                                    "LastName": "NULL",
                                    "Age": "NULL",
                                    "Gender": "NULL"
                                },
                                {
                                    "EmployeeID": "NULL",
                                    "FirstName": "NULL",
                                    "LastName": "NULL",
                                    "Age": "NULL",
                                    "Gender": "NULL"
                                },
                                {
                                    "EmployeeID": "NULL",
                                    "FirstName": "NULL",
                                    "LastName": "NULL",
                                    "Age": "NULL",
                                    "Gender": "NULL"
                                },
                                {
                                    "EmployeeID": "NULL",
                                    "FirstName": "NULL",
                                    "LastName": "NULL",
                                    "Age": "NULL",
                                    "Gender": "NULL"
                                },
                                {
                                    "EmployeeID": "1013",
                                    "FirstName": "Darryl",
                                    "LastName": "Philbin",
                                    "Age": "NULL",
                                    "Gender": "Male"
                                },
                                {
                                    "EmployeeID": "1050",
                                    "FirstName": "Roy",
                                    "LastName": "Anderson",
                                    "Age": "31",
                                    "Gender": "Male"
                                },
                                {
                                    "EmployeeID": "1051",
                                    "FirstName": "Hidetoshi",
                                    "LastName": "Hasagawa",
                                    "Age": "40",
                                    "Gender": "Male"
                                },
                                {
                                    "EmployeeID": "1052",
                                    "FirstName": "Val",
                                    "LastName": "Johnson",
                                    "Age": "31",
                                    "Gender": "Female"
                                }
                            ]
                        },
                        "text/html": [
                            "<table>",
                            "<tr><th>EmployeeID</th><th>FirstName</th><th>LastName</th><th>Age</th><th>Gender</th><th>EmployeeID</th><th>FirstName</th><th>LastName</th><th>Age</th><th>Gender</th></tr>",
                            "<tr><td>1001</td><td>Jim</td><td>Halpert</td><td>30</td><td>Male</td><td>NULL</td><td>NULL</td><td>NULL</td><td>NULL</td><td>NULL</td></tr>",
                            "<tr><td>1002</td><td>Pam</td><td>Beasley</td><td>30</td><td>Female</td><td>NULL</td><td>NULL</td><td>NULL</td><td>NULL</td><td>NULL</td></tr>",
                            "<tr><td>1003</td><td>Dwight</td><td>Schrute</td><td>29</td><td>Male</td><td>NULL</td><td>NULL</td><td>NULL</td><td>NULL</td><td>NULL</td></tr>",
                            "<tr><td>1004</td><td>Angela</td><td>Martin</td><td>31</td><td>Female</td><td>NULL</td><td>NULL</td><td>NULL</td><td>NULL</td><td>NULL</td></tr>",
                            "<tr><td>1005</td><td>Toby</td><td>Flenderson</td><td>32</td><td>Male</td><td>NULL</td><td>NULL</td><td>NULL</td><td>NULL</td><td>NULL</td></tr>",
                            "<tr><td>1006</td><td>Michael</td><td>Scott</td><td>35</td><td>Male</td><td>NULL</td><td>NULL</td><td>NULL</td><td>NULL</td><td>NULL</td></tr>",
                            "<tr><td>1007</td><td>Meredith</td><td>Palmer</td><td>32</td><td>Female</td><td>NULL</td><td>NULL</td><td>NULL</td><td>NULL</td><td>NULL</td></tr>",
                            "<tr><td>1008</td><td>Stanley</td><td>Hudson</td><td>38</td><td>Male</td><td>NULL</td><td>NULL</td><td>NULL</td><td>NULL</td><td>NULL</td></tr>",
                            "<tr><td>1009</td><td>Kevin</td><td>Malone</td><td>31</td><td>Male</td><td>NULL</td><td>NULL</td><td>NULL</td><td>NULL</td><td>NULL</td></tr>",
                            "<tr><td>1011</td><td>Ryan</td><td>Howard</td><td>26</td><td>Male</td><td>NULL</td><td>NULL</td><td>NULL</td><td>NULL</td><td>NULL</td></tr>",
                            "<tr><td>NULL</td><td>Holly</td><td>Flax</td><td>NULL</td><td>Female</td><td>NULL</td><td>NULL</td><td>NULL</td><td>NULL</td><td>NULL</td></tr>",
                            "<tr><td>1013</td><td>Darryl</td><td>Philbin</td><td>NULL</td><td>Male</td><td>1013</td><td>Darryl</td><td>Philbin</td><td>NULL</td><td>Male</td></tr>",
                            "<tr><td>NULL</td><td>NULL</td><td>NULL</td><td>NULL</td><td>NULL</td><td>1050</td><td>Roy</td><td>Anderson</td><td>31</td><td>Male</td></tr>",
                            "<tr><td>NULL</td><td>NULL</td><td>NULL</td><td>NULL</td><td>NULL</td><td>1051</td><td>Hidetoshi</td><td>Hasagawa</td><td>40</td><td>Male</td></tr>",
                            "<tr><td>NULL</td><td>NULL</td><td>NULL</td><td>NULL</td><td>NULL</td><td>1052</td><td>Val</td><td>Johnson</td><td>31</td><td>Female</td></tr>",
                            "</table>"
                        ]
                    }
                },
                {
                    "output_type": "execute_result",
                    "metadata": {},
                    "execution_count": 13,
                    "data": {
                        "application/vnd.dataresource+json": {
                            "schema": {
                                "fields": [
                                    {
                                        "name": "EmployeeID"
                                    },
                                    {
                                        "name": "FirstName"
                                    },
                                    {
                                        "name": "LastName"
                                    },
                                    {
                                        "name": "Age"
                                    },
                                    {
                                        "name": "Gender"
                                    }
                                ]
                            },
                            "data": [
                                {
                                    "EmployeeID": "NULL",
                                    "FirstName": "Holly",
                                    "LastName": "Flax",
                                    "Age": "NULL",
                                    "Gender": "Female"
                                },
                                {
                                    "EmployeeID": "1001",
                                    "FirstName": "Jim",
                                    "LastName": "Halpert",
                                    "Age": "30",
                                    "Gender": "Male"
                                },
                                {
                                    "EmployeeID": "1002",
                                    "FirstName": "Pam",
                                    "LastName": "Beasley",
                                    "Age": "30",
                                    "Gender": "Female"
                                },
                                {
                                    "EmployeeID": "1003",
                                    "FirstName": "Dwight",
                                    "LastName": "Schrute",
                                    "Age": "29",
                                    "Gender": "Male"
                                },
                                {
                                    "EmployeeID": "1004",
                                    "FirstName": "Angela",
                                    "LastName": "Martin",
                                    "Age": "31",
                                    "Gender": "Female"
                                },
                                {
                                    "EmployeeID": "1005",
                                    "FirstName": "Toby",
                                    "LastName": "Flenderson",
                                    "Age": "32",
                                    "Gender": "Male"
                                },
                                {
                                    "EmployeeID": "1006",
                                    "FirstName": "Michael",
                                    "LastName": "Scott",
                                    "Age": "35",
                                    "Gender": "Male"
                                },
                                {
                                    "EmployeeID": "1007",
                                    "FirstName": "Meredith",
                                    "LastName": "Palmer",
                                    "Age": "32",
                                    "Gender": "Female"
                                },
                                {
                                    "EmployeeID": "1008",
                                    "FirstName": "Stanley",
                                    "LastName": "Hudson",
                                    "Age": "38",
                                    "Gender": "Male"
                                },
                                {
                                    "EmployeeID": "1009",
                                    "FirstName": "Kevin",
                                    "LastName": "Malone",
                                    "Age": "31",
                                    "Gender": "Male"
                                },
                                {
                                    "EmployeeID": "1011",
                                    "FirstName": "Ryan",
                                    "LastName": "Howard",
                                    "Age": "26",
                                    "Gender": "Male"
                                },
                                {
                                    "EmployeeID": "1013",
                                    "FirstName": "Darryl",
                                    "LastName": "Philbin",
                                    "Age": "NULL",
                                    "Gender": "Male"
                                },
                                {
                                    "EmployeeID": "1050",
                                    "FirstName": "Roy",
                                    "LastName": "Anderson",
                                    "Age": "31",
                                    "Gender": "Male"
                                },
                                {
                                    "EmployeeID": "1051",
                                    "FirstName": "Hidetoshi",
                                    "LastName": "Hasagawa",
                                    "Age": "40",
                                    "Gender": "Male"
                                },
                                {
                                    "EmployeeID": "1052",
                                    "FirstName": "Val",
                                    "LastName": "Johnson",
                                    "Age": "31",
                                    "Gender": "Female"
                                }
                            ]
                        },
                        "text/html": [
                            "<table>",
                            "<tr><th>EmployeeID</th><th>FirstName</th><th>LastName</th><th>Age</th><th>Gender</th></tr>",
                            "<tr><td>NULL</td><td>Holly</td><td>Flax</td><td>NULL</td><td>Female</td></tr>",
                            "<tr><td>1001</td><td>Jim</td><td>Halpert</td><td>30</td><td>Male</td></tr>",
                            "<tr><td>1002</td><td>Pam</td><td>Beasley</td><td>30</td><td>Female</td></tr>",
                            "<tr><td>1003</td><td>Dwight</td><td>Schrute</td><td>29</td><td>Male</td></tr>",
                            "<tr><td>1004</td><td>Angela</td><td>Martin</td><td>31</td><td>Female</td></tr>",
                            "<tr><td>1005</td><td>Toby</td><td>Flenderson</td><td>32</td><td>Male</td></tr>",
                            "<tr><td>1006</td><td>Michael</td><td>Scott</td><td>35</td><td>Male</td></tr>",
                            "<tr><td>1007</td><td>Meredith</td><td>Palmer</td><td>32</td><td>Female</td></tr>",
                            "<tr><td>1008</td><td>Stanley</td><td>Hudson</td><td>38</td><td>Male</td></tr>",
                            "<tr><td>1009</td><td>Kevin</td><td>Malone</td><td>31</td><td>Male</td></tr>",
                            "<tr><td>1011</td><td>Ryan</td><td>Howard</td><td>26</td><td>Male</td></tr>",
                            "<tr><td>1013</td><td>Darryl</td><td>Philbin</td><td>NULL</td><td>Male</td></tr>",
                            "<tr><td>1050</td><td>Roy</td><td>Anderson</td><td>31</td><td>Male</td></tr>",
                            "<tr><td>1051</td><td>Hidetoshi</td><td>Hasagawa</td><td>40</td><td>Male</td></tr>",
                            "<tr><td>1052</td><td>Val</td><td>Johnson</td><td>31</td><td>Female</td></tr>",
                            "</table>"
                        ]
                    }
                },
                {
                    "output_type": "execute_result",
                    "metadata": {},
                    "execution_count": 13,
                    "data": {
                        "application/vnd.dataresource+json": {
                            "schema": {
                                "fields": [
                                    {
                                        "name": "EmployeeID"
                                    },
                                    {
                                        "name": "FirstName"
                                    },
                                    {
                                        "name": "LastName"
                                    },
                                    {
                                        "name": "Age"
                                    },
                                    {
                                        "name": "Gender"
                                    }
                                ]
                            },
                            "data": [
                                {
                                    "EmployeeID": "NULL",
                                    "FirstName": "Holly",
                                    "LastName": "Flax",
                                    "Age": "NULL",
                                    "Gender": "Female"
                                },
                                {
                                    "EmployeeID": "1001",
                                    "FirstName": "Jim",
                                    "LastName": "Halpert",
                                    "Age": "30",
                                    "Gender": "Male"
                                },
                                {
                                    "EmployeeID": "1002",
                                    "FirstName": "Pam",
                                    "LastName": "Beasley",
                                    "Age": "30",
                                    "Gender": "Female"
                                },
                                {
                                    "EmployeeID": "1003",
                                    "FirstName": "Dwight",
                                    "LastName": "Schrute",
                                    "Age": "29",
                                    "Gender": "Male"
                                },
                                {
                                    "EmployeeID": "1004",
                                    "FirstName": "Angela",
                                    "LastName": "Martin",
                                    "Age": "31",
                                    "Gender": "Female"
                                },
                                {
                                    "EmployeeID": "1005",
                                    "FirstName": "Toby",
                                    "LastName": "Flenderson",
                                    "Age": "32",
                                    "Gender": "Male"
                                },
                                {
                                    "EmployeeID": "1006",
                                    "FirstName": "Michael",
                                    "LastName": "Scott",
                                    "Age": "35",
                                    "Gender": "Male"
                                },
                                {
                                    "EmployeeID": "1007",
                                    "FirstName": "Meredith",
                                    "LastName": "Palmer",
                                    "Age": "32",
                                    "Gender": "Female"
                                },
                                {
                                    "EmployeeID": "1008",
                                    "FirstName": "Stanley",
                                    "LastName": "Hudson",
                                    "Age": "38",
                                    "Gender": "Male"
                                },
                                {
                                    "EmployeeID": "1009",
                                    "FirstName": "Kevin",
                                    "LastName": "Malone",
                                    "Age": "31",
                                    "Gender": "Male"
                                },
                                {
                                    "EmployeeID": "1011",
                                    "FirstName": "Ryan",
                                    "LastName": "Howard",
                                    "Age": "26",
                                    "Gender": "Male"
                                },
                                {
                                    "EmployeeID": "1013",
                                    "FirstName": "Darryl",
                                    "LastName": "Philbin",
                                    "Age": "NULL",
                                    "Gender": "Male"
                                },
                                {
                                    "EmployeeID": "1013",
                                    "FirstName": "Darryl",
                                    "LastName": "Philbin",
                                    "Age": "NULL",
                                    "Gender": "Male"
                                },
                                {
                                    "EmployeeID": "1050",
                                    "FirstName": "Roy",
                                    "LastName": "Anderson",
                                    "Age": "31",
                                    "Gender": "Male"
                                },
                                {
                                    "EmployeeID": "1051",
                                    "FirstName": "Hidetoshi",
                                    "LastName": "Hasagawa",
                                    "Age": "40",
                                    "Gender": "Male"
                                },
                                {
                                    "EmployeeID": "1052",
                                    "FirstName": "Val",
                                    "LastName": "Johnson",
                                    "Age": "31",
                                    "Gender": "Female"
                                }
                            ]
                        },
                        "text/html": [
                            "<table>",
                            "<tr><th>EmployeeID</th><th>FirstName</th><th>LastName</th><th>Age</th><th>Gender</th></tr>",
                            "<tr><td>NULL</td><td>Holly</td><td>Flax</td><td>NULL</td><td>Female</td></tr>",
                            "<tr><td>1001</td><td>Jim</td><td>Halpert</td><td>30</td><td>Male</td></tr>",
                            "<tr><td>1002</td><td>Pam</td><td>Beasley</td><td>30</td><td>Female</td></tr>",
                            "<tr><td>1003</td><td>Dwight</td><td>Schrute</td><td>29</td><td>Male</td></tr>",
                            "<tr><td>1004</td><td>Angela</td><td>Martin</td><td>31</td><td>Female</td></tr>",
                            "<tr><td>1005</td><td>Toby</td><td>Flenderson</td><td>32</td><td>Male</td></tr>",
                            "<tr><td>1006</td><td>Michael</td><td>Scott</td><td>35</td><td>Male</td></tr>",
                            "<tr><td>1007</td><td>Meredith</td><td>Palmer</td><td>32</td><td>Female</td></tr>",
                            "<tr><td>1008</td><td>Stanley</td><td>Hudson</td><td>38</td><td>Male</td></tr>",
                            "<tr><td>1009</td><td>Kevin</td><td>Malone</td><td>31</td><td>Male</td></tr>",
                            "<tr><td>1011</td><td>Ryan</td><td>Howard</td><td>26</td><td>Male</td></tr>",
                            "<tr><td>1013</td><td>Darryl</td><td>Philbin</td><td>NULL</td><td>Male</td></tr>",
                            "<tr><td>1013</td><td>Darryl</td><td>Philbin</td><td>NULL</td><td>Male</td></tr>",
                            "<tr><td>1050</td><td>Roy</td><td>Anderson</td><td>31</td><td>Male</td></tr>",
                            "<tr><td>1051</td><td>Hidetoshi</td><td>Hasagawa</td><td>40</td><td>Male</td></tr>",
                            "<tr><td>1052</td><td>Val</td><td>Johnson</td><td>31</td><td>Female</td></tr>",
                            "</table>"
                        ]
                    }
                }
            ],
            "execution_count": 13
        },
        {
            "cell_type": "code",
            "source": [
                "SELECT EmployeeID, FirstName, Age\r\n",
                "FROM [Projects].[dbo].[EmployeeDemographics]\r\n",
                "UNION\r\n",
                "SELECT  EmployeeID, JobTitle, Salary\r\n",
                "FROM [Projects].[dbo].[EmployeeSalary]\r\n",
                "ORDER BY EmployeeID\r\n",
                "\r\n",
                "-- NOTE: Unions can work with tables that have different items but will combine them if both tables have the same number of columns."
            ],
            "metadata": {
                "language": "sql",
                "azdata_cell_guid": "9421c8e5-b346-498f-82ca-708a111a5f2f"
            },
            "outputs": [
                {
                    "output_type": "display_data",
                    "data": {
                        "text/html": "(23 rows affected)"
                    },
                    "metadata": {}
                },
                {
                    "output_type": "display_data",
                    "data": {
                        "text/html": "Total execution time: 00:00:00.012"
                    },
                    "metadata": {}
                },
                {
                    "output_type": "execute_result",
                    "metadata": {},
                    "execution_count": 14,
                    "data": {
                        "application/vnd.dataresource+json": {
                            "schema": {
                                "fields": [
                                    {
                                        "name": "EmployeeID"
                                    },
                                    {
                                        "name": "FirstName"
                                    },
                                    {
                                        "name": "Age"
                                    }
                                ]
                            },
                            "data": [
                                {
                                    "EmployeeID": "NULL",
                                    "FirstName": "Holly",
                                    "Age": "NULL"
                                },
                                {
                                    "EmployeeID": "NULL",
                                    "FirstName": "Salesman",
                                    "Age": "43000"
                                },
                                {
                                    "EmployeeID": "1001",
                                    "FirstName": "Jim",
                                    "Age": "30"
                                },
                                {
                                    "EmployeeID": "1001",
                                    "FirstName": "Salesman",
                                    "Age": "45000"
                                },
                                {
                                    "EmployeeID": "1002",
                                    "FirstName": "Pam",
                                    "Age": "30"
                                },
                                {
                                    "EmployeeID": "1002",
                                    "FirstName": "Receptionist",
                                    "Age": "36000"
                                },
                                {
                                    "EmployeeID": "1003",
                                    "FirstName": "Dwight",
                                    "Age": "29"
                                },
                                {
                                    "EmployeeID": "1003",
                                    "FirstName": "Salesman",
                                    "Age": "63000"
                                },
                                {
                                    "EmployeeID": "1004",
                                    "FirstName": "Accountant",
                                    "Age": "47000"
                                },
                                {
                                    "EmployeeID": "1004",
                                    "FirstName": "Angela",
                                    "Age": "31"
                                },
                                {
                                    "EmployeeID": "1005",
                                    "FirstName": "HR",
                                    "Age": "50000"
                                },
                                {
                                    "EmployeeID": "1005",
                                    "FirstName": "Toby",
                                    "Age": "32"
                                },
                                {
                                    "EmployeeID": "1006",
                                    "FirstName": "Michael",
                                    "Age": "35"
                                },
                                {
                                    "EmployeeID": "1006",
                                    "FirstName": "Regional Manager",
                                    "Age": "65000"
                                },
                                {
                                    "EmployeeID": "1007",
                                    "FirstName": "Meredith",
                                    "Age": "32"
                                },
                                {
                                    "EmployeeID": "1007",
                                    "FirstName": "Supplier Relations",
                                    "Age": "41000"
                                },
                                {
                                    "EmployeeID": "1008",
                                    "FirstName": "Salesman",
                                    "Age": "48000"
                                },
                                {
                                    "EmployeeID": "1008",
                                    "FirstName": "Stanley",
                                    "Age": "38"
                                },
                                {
                                    "EmployeeID": "1009",
                                    "FirstName": "Accountant",
                                    "Age": "42000"
                                },
                                {
                                    "EmployeeID": "1009",
                                    "FirstName": "Kevin",
                                    "Age": "31"
                                },
                                {
                                    "EmployeeID": "1010",
                                    "FirstName": "NULL",
                                    "Age": "47000"
                                },
                                {
                                    "EmployeeID": "1011",
                                    "FirstName": "Ryan",
                                    "Age": "26"
                                },
                                {
                                    "EmployeeID": "1013",
                                    "FirstName": "Darryl",
                                    "Age": "NULL"
                                }
                            ]
                        },
                        "text/html": [
                            "<table>",
                            "<tr><th>EmployeeID</th><th>FirstName</th><th>Age</th></tr>",
                            "<tr><td>NULL</td><td>Holly</td><td>NULL</td></tr>",
                            "<tr><td>NULL</td><td>Salesman</td><td>43000</td></tr>",
                            "<tr><td>1001</td><td>Jim</td><td>30</td></tr>",
                            "<tr><td>1001</td><td>Salesman</td><td>45000</td></tr>",
                            "<tr><td>1002</td><td>Pam</td><td>30</td></tr>",
                            "<tr><td>1002</td><td>Receptionist</td><td>36000</td></tr>",
                            "<tr><td>1003</td><td>Dwight</td><td>29</td></tr>",
                            "<tr><td>1003</td><td>Salesman</td><td>63000</td></tr>",
                            "<tr><td>1004</td><td>Accountant</td><td>47000</td></tr>",
                            "<tr><td>1004</td><td>Angela</td><td>31</td></tr>",
                            "<tr><td>1005</td><td>HR</td><td>50000</td></tr>",
                            "<tr><td>1005</td><td>Toby</td><td>32</td></tr>",
                            "<tr><td>1006</td><td>Michael</td><td>35</td></tr>",
                            "<tr><td>1006</td><td>Regional Manager</td><td>65000</td></tr>",
                            "<tr><td>1007</td><td>Meredith</td><td>32</td></tr>",
                            "<tr><td>1007</td><td>Supplier Relations</td><td>41000</td></tr>",
                            "<tr><td>1008</td><td>Salesman</td><td>48000</td></tr>",
                            "<tr><td>1008</td><td>Stanley</td><td>38</td></tr>",
                            "<tr><td>1009</td><td>Accountant</td><td>42000</td></tr>",
                            "<tr><td>1009</td><td>Kevin</td><td>31</td></tr>",
                            "<tr><td>1010</td><td>NULL</td><td>47000</td></tr>",
                            "<tr><td>1011</td><td>Ryan</td><td>26</td></tr>",
                            "<tr><td>1013</td><td>Darryl</td><td>NULL</td></tr>",
                            "</table>"
                        ]
                    }
                }
            ],
            "execution_count": 14
        },
        {
            "cell_type": "markdown",
            "source": [
                "# CASE STATEMENTS"
            ],
            "metadata": {
                "language": "sql",
                "azdata_cell_guid": "3d0d119f-9c0a-4c0b-b4d2-3e796c143539"
            },
            "attachments": {}
        },
        {
            "cell_type": "code",
            "source": [
                "-- Without a Case Statement\r\n",
                "SELECT FirstName, LastName, Age\r\n",
                "FROM [Projects].[dbo].[EmployeeDemographics]\r\n",
                "WHERE Age is NOT NULL\r\n",
                "ORDER BY Age\r\n",
                "\r\n",
                "-- With a Case Statement\r\n",
                "SELECT FirstName, LastName, Age,\r\n",
                "CASE\r\n",
                "    WHEN Age > 30 THEN 'Old'\r\n",
                "    WHEN Age BETWEEN 27 AND 30 THEN 'Young'\r\n",
                "    ELSE 'Baby'\r\n",
                "END\r\n",
                "FROM [Projects].[dbo].[EmployeeDemographics]\r\n",
                "WHERE Age is NOT NULL\r\n",
                "ORDER BY Age\r\n",
                "\r\n",
                "\r\n",
                "-- NOTE: When a Case Statement's first condition is met, it will be returned regardless of subsequent conditions."
            ],
            "metadata": {
                "language": "sql",
                "azdata_cell_guid": "732c3833-37a0-4cac-9198-4c187250e463"
            },
            "outputs": [
                {
                    "output_type": "display_data",
                    "data": {
                        "text/html": "(10 rows affected)"
                    },
                    "metadata": {}
                },
                {
                    "output_type": "display_data",
                    "data": {
                        "text/html": "(10 rows affected)"
                    },
                    "metadata": {}
                },
                {
                    "output_type": "display_data",
                    "data": {
                        "text/html": "Total execution time: 00:00:00.019"
                    },
                    "metadata": {}
                },
                {
                    "output_type": "execute_result",
                    "metadata": {},
                    "execution_count": 15,
                    "data": {
                        "application/vnd.dataresource+json": {
                            "schema": {
                                "fields": [
                                    {
                                        "name": "FirstName"
                                    },
                                    {
                                        "name": "LastName"
                                    },
                                    {
                                        "name": "Age"
                                    }
                                ]
                            },
                            "data": [
                                {
                                    "FirstName": "Ryan",
                                    "LastName": "Howard",
                                    "Age": "26"
                                },
                                {
                                    "FirstName": "Dwight",
                                    "LastName": "Schrute",
                                    "Age": "29"
                                },
                                {
                                    "FirstName": "Jim",
                                    "LastName": "Halpert",
                                    "Age": "30"
                                },
                                {
                                    "FirstName": "Pam",
                                    "LastName": "Beasley",
                                    "Age": "30"
                                },
                                {
                                    "FirstName": "Angela",
                                    "LastName": "Martin",
                                    "Age": "31"
                                },
                                {
                                    "FirstName": "Kevin",
                                    "LastName": "Malone",
                                    "Age": "31"
                                },
                                {
                                    "FirstName": "Toby",
                                    "LastName": "Flenderson",
                                    "Age": "32"
                                },
                                {
                                    "FirstName": "Meredith",
                                    "LastName": "Palmer",
                                    "Age": "32"
                                },
                                {
                                    "FirstName": "Michael",
                                    "LastName": "Scott",
                                    "Age": "35"
                                },
                                {
                                    "FirstName": "Stanley",
                                    "LastName": "Hudson",
                                    "Age": "38"
                                }
                            ]
                        },
                        "text/html": [
                            "<table>",
                            "<tr><th>FirstName</th><th>LastName</th><th>Age</th></tr>",
                            "<tr><td>Ryan</td><td>Howard</td><td>26</td></tr>",
                            "<tr><td>Dwight</td><td>Schrute</td><td>29</td></tr>",
                            "<tr><td>Jim</td><td>Halpert</td><td>30</td></tr>",
                            "<tr><td>Pam</td><td>Beasley</td><td>30</td></tr>",
                            "<tr><td>Angela</td><td>Martin</td><td>31</td></tr>",
                            "<tr><td>Kevin</td><td>Malone</td><td>31</td></tr>",
                            "<tr><td>Toby</td><td>Flenderson</td><td>32</td></tr>",
                            "<tr><td>Meredith</td><td>Palmer</td><td>32</td></tr>",
                            "<tr><td>Michael</td><td>Scott</td><td>35</td></tr>",
                            "<tr><td>Stanley</td><td>Hudson</td><td>38</td></tr>",
                            "</table>"
                        ]
                    }
                },
                {
                    "output_type": "execute_result",
                    "metadata": {},
                    "execution_count": 15,
                    "data": {
                        "application/vnd.dataresource+json": {
                            "schema": {
                                "fields": [
                                    {
                                        "name": "FirstName"
                                    },
                                    {
                                        "name": "LastName"
                                    },
                                    {
                                        "name": "Age"
                                    },
                                    {
                                        "name": "(No column name)"
                                    }
                                ]
                            },
                            "data": [
                                {
                                    "FirstName": "Ryan",
                                    "LastName": "Howard",
                                    "Age": "26",
                                    "(No column name)": "Baby"
                                },
                                {
                                    "FirstName": "Dwight",
                                    "LastName": "Schrute",
                                    "Age": "29",
                                    "(No column name)": "Young"
                                },
                                {
                                    "FirstName": "Jim",
                                    "LastName": "Halpert",
                                    "Age": "30",
                                    "(No column name)": "Young"
                                },
                                {
                                    "FirstName": "Pam",
                                    "LastName": "Beasley",
                                    "Age": "30",
                                    "(No column name)": "Young"
                                },
                                {
                                    "FirstName": "Angela",
                                    "LastName": "Martin",
                                    "Age": "31",
                                    "(No column name)": "Old"
                                },
                                {
                                    "FirstName": "Kevin",
                                    "LastName": "Malone",
                                    "Age": "31",
                                    "(No column name)": "Old"
                                },
                                {
                                    "FirstName": "Toby",
                                    "LastName": "Flenderson",
                                    "Age": "32",
                                    "(No column name)": "Old"
                                },
                                {
                                    "FirstName": "Meredith",
                                    "LastName": "Palmer",
                                    "Age": "32",
                                    "(No column name)": "Old"
                                },
                                {
                                    "FirstName": "Michael",
                                    "LastName": "Scott",
                                    "Age": "35",
                                    "(No column name)": "Old"
                                },
                                {
                                    "FirstName": "Stanley",
                                    "LastName": "Hudson",
                                    "Age": "38",
                                    "(No column name)": "Old"
                                }
                            ]
                        },
                        "text/html": [
                            "<table>",
                            "<tr><th>FirstName</th><th>LastName</th><th>Age</th><th>(No column name)</th></tr>",
                            "<tr><td>Ryan</td><td>Howard</td><td>26</td><td>Baby</td></tr>",
                            "<tr><td>Dwight</td><td>Schrute</td><td>29</td><td>Young</td></tr>",
                            "<tr><td>Jim</td><td>Halpert</td><td>30</td><td>Young</td></tr>",
                            "<tr><td>Pam</td><td>Beasley</td><td>30</td><td>Young</td></tr>",
                            "<tr><td>Angela</td><td>Martin</td><td>31</td><td>Old</td></tr>",
                            "<tr><td>Kevin</td><td>Malone</td><td>31</td><td>Old</td></tr>",
                            "<tr><td>Toby</td><td>Flenderson</td><td>32</td><td>Old</td></tr>",
                            "<tr><td>Meredith</td><td>Palmer</td><td>32</td><td>Old</td></tr>",
                            "<tr><td>Michael</td><td>Scott</td><td>35</td><td>Old</td></tr>",
                            "<tr><td>Stanley</td><td>Hudson</td><td>38</td><td>Old</td></tr>",
                            "</table>"
                        ]
                    }
                }
            ],
            "execution_count": 15
        },
        {
            "cell_type": "markdown",
            "source": [
                "### Use Case"
            ],
            "metadata": {
                "language": "sql",
                "azdata_cell_guid": "c16c1aa7-b10e-4818-990b-1cab7260528b"
            },
            "attachments": {}
        },
        {
            "cell_type": "code",
            "source": [
                "SELECT FirstName, LastName, JobTitle, Salary,\r\n",
                "CASE \r\n",
                "    WHEN JobTitle = 'Saleesman' THEN Salary + (Salary * .10)\r\n",
                "    WHEN JobTitle = 'Acountant' THEN Salary + (Salary * .05)\r\n",
                "    WHEN JobTitle = 'HR' THEN Salary + (Salary * .000001)\r\n",
                "    ELSE Salary + (Salary * .03)\r\n",
                "END AS SalaryAfterRaise\r\n",
                "FROM [Projects].[dbo].[EmployeeDemographics]\r\n",
                "JOIN [Projects].[dbo].[EmployeeSalary]\r\n",
                "    ON EmployeeDemographics.EmployeeID = EmployeeSalary.EmployeeID"
            ],
            "metadata": {
                "language": "sql",
                "azdata_cell_guid": "413203b1-b6d0-414a-b397-2140f621f4a0"
            },
            "outputs": [
{
    "output_type": "display_data",
    "data": {
        "text/html": "(9 rows affected)"
    },
    "metadata": {}
}, {
    "output_type": "display_data",
    "data": {
        "text/html": "Total execution time: 00:00:00.013"
    },
    "metadata": {}
}, {
    "output_type": "execute_result",
    "metadata": {},
    "execution_count": 16,
    "data": {
        "application/vnd.dataresource+json": {
            "schema": {
                "fields": [
                    {
                        "name": "FirstName"
                    },
                    {
                        "name": "LastName"
                    },
                    {
                        "name": "JobTitle"
                    },
                    {
                        "name": "Salary"
                    },
                    {
                        "name": "SalaryAfterRaise"
                    }
                ]
            },
            "data": [
                {
                    "FirstName": "Jim",
                    "LastName": "Halpert",
                    "JobTitle": "Salesman",
                    "Salary": "45000",
                    "SalaryAfterRaise": "46350.000000"
                },
                {
                    "FirstName": "Pam",
                    "LastName": "Beasley",
                    "JobTitle": "Receptionist",
                    "Salary": "36000",
                    "SalaryAfterRaise": "37080.000000"
                },
                {
                    "FirstName": "Dwight",
                    "LastName": "Schrute",
                    "JobTitle": "Salesman",
                    "Salary": "63000",
                    "SalaryAfterRaise": "64890.000000"
                },
                {
                    "FirstName": "Angela",
                    "LastName": "Martin",
                    "JobTitle": "Accountant",
                    "Salary": "47000",
                    "SalaryAfterRaise": "48410.000000"
                },
                {
                    "FirstName": "Toby",
                    "LastName": "Flenderson",
                    "JobTitle": "HR",
                    "Salary": "50000",
                    "SalaryAfterRaise": "50000.050000"
                },
                {
                    "FirstName": "Michael",
                    "LastName": "Scott",
                    "JobTitle": "Regional Manager",
                    "Salary": "65000",
                    "SalaryAfterRaise": "66950.000000"
                },
                {
                    "FirstName": "Meredith",
                    "LastName": "Palmer",
                    "JobTitle": "Supplier Relations",
                    "Salary": "41000",
                    "SalaryAfterRaise": "42230.000000"
                },
                {
                    "FirstName": "Stanley",
                    "LastName": "Hudson",
                    "JobTitle": "Salesman",
                    "Salary": "48000",
                    "SalaryAfterRaise": "49440.000000"
                },
                {
                    "FirstName": "Kevin",
                    "LastName": "Malone",
                    "JobTitle": "Accountant",
                    "Salary": "42000",
                    "SalaryAfterRaise": "43260.000000"
                }
            ]
        },
        "text/html": [
            "<table>",
            "<tr><th>FirstName</th><th>LastName</th><th>JobTitle</th><th>Salary</th><th>SalaryAfterRaise</th></tr>",
            "<tr><td>Jim</td><td>Halpert</td><td>Salesman</td><td>45000</td><td>46350.000000</td></tr>",
            "<tr><td>Pam</td><td>Beasley</td><td>Receptionist</td><td>36000</td><td>37080.000000</td></tr>",
            "<tr><td>Dwight</td><td>Schrute</td><td>Salesman</td><td>63000</td><td>64890.000000</td></tr>",
            "<tr><td>Angela</td><td>Martin</td><td>Accountant</td><td>47000</td><td>48410.000000</td></tr>",
            "<tr><td>Toby</td><td>Flenderson</td><td>HR</td><td>50000</td><td>50000.050000</td></tr>",
            "<tr><td>Michael</td><td>Scott</td><td>Regional Manager</td><td>65000</td><td>66950.000000</td></tr>",
            "<tr><td>Meredith</td><td>Palmer</td><td>Supplier Relations</td><td>41000</td><td>42230.000000</td></tr>",
            "<tr><td>Stanley</td><td>Hudson</td><td>Salesman</td><td>48000</td><td>49440.000000</td></tr>",
            "<tr><td>Kevin</td><td>Malone</td><td>Accountant</td><td>42000</td><td>43260.000000</td></tr>",
            "</table>"
        ]
    }
}
],
            "execution_count": 16
        }
    ]
}